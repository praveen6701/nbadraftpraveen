{
  "cells": [
    {
      "cell_type": "markdown",
      "metadata": {
        "id": "Fic8-0XDHi1R"
      },
      "source": [
        "# **Experiment Notebook**\n",
        "\n"
      ]
    },
    {
      "cell_type": "code",
      "execution_count": 70,
      "metadata": {
        "id": "1RNoSX4JHi1T"
      },
      "outputs": [],
      "source": [
        "# Do not modify this code\n",
        "!pip install -q utstd\n",
        "\n",
        "from utstd.ipyrenders import *"
      ]
    },
    {
      "cell_type": "code",
      "execution_count": 71,
      "metadata": {
        "id": "i4RmDS1nHi1U"
      },
      "outputs": [],
      "source": [
        "# Do not modify this code\n",
        "import warnings\n",
        "warnings.simplefilter(action='ignore')"
      ]
    },
    {
      "cell_type": "markdown",
      "metadata": {
        "id": "B1aoKIZGHi1U"
      },
      "source": [
        "## 0. Import Packages"
      ]
    },
    {
      "cell_type": "code",
      "execution_count": 72,
      "metadata": {
        "id": "M7KRYuoTHi1U"
      },
      "outputs": [],
      "source": [
        "# <Student to fill this section>\n",
        "import pandas as pd\n",
        "from sklearn.model_selection import train_test_split\n",
        "from sklearn.metrics import roc_auc_score"
      ]
    },
    {
      "cell_type": "markdown",
      "metadata": {
        "id": "FQOs-vVrHi1V"
      },
      "source": [
        "---\n",
        "## A. Project Description\n"
      ]
    },
    {
      "cell_type": "code",
      "execution_count": 73,
      "metadata": {
        "id": "y3cu0QINHi1V"
      },
      "outputs": [],
      "source": [
        "# <Student to fill this section>\n",
        "student_name = \"Praveen Bharath\"\n",
        "student_id = \"25615004\"\n",
        "group_id = \"25\""
      ]
    },
    {
      "cell_type": "code",
      "execution_count": 74,
      "metadata": {
        "colab": {
          "base_uri": "https://localhost:8080/",
          "height": 98
        },
        "id": "4ZfKCfCMHi1W",
        "outputId": "5c341c26-8535-45a3-b5ed-8cb97b001626"
      },
      "outputs": [
        {
          "output_type": "display_data",
          "data": {
            "text/plain": [
              "<IPython.core.display.HTML object>"
            ],
            "text/html": [
              "<p style=\"color:grey\">student_name</p><h1 font-size: 3em>Praveen Bharath</h1>"
            ]
          },
          "metadata": {}
        }
      ],
      "source": [
        "# Do not modify this code\n",
        "print_tile(size=\"h1\", key='student_name', value=student_name)"
      ]
    },
    {
      "cell_type": "code",
      "execution_count": 75,
      "metadata": {
        "colab": {
          "base_uri": "https://localhost:8080/",
          "height": 98
        },
        "id": "6rqjqvLJHi1W",
        "outputId": "2ee16348-d019-4413-bce5-be35e20b03b2"
      },
      "outputs": [
        {
          "output_type": "display_data",
          "data": {
            "text/plain": [
              "<IPython.core.display.HTML object>"
            ],
            "text/html": [
              "<p style=\"color:grey\">student_id</p><h1 font-size: 3em>25615004</h1>"
            ]
          },
          "metadata": {}
        }
      ],
      "source": [
        "# Do not modify this code\n",
        "print_tile(size=\"h1\", key='student_id', value=student_id)"
      ]
    },
    {
      "cell_type": "code",
      "execution_count": 76,
      "metadata": {
        "colab": {
          "base_uri": "https://localhost:8080/",
          "height": 98
        },
        "id": "hYbaPussHi1W",
        "outputId": "096584ea-fd7c-4a2f-e07d-b6ade690f7ac"
      },
      "outputs": [
        {
          "output_type": "display_data",
          "data": {
            "text/plain": [
              "<IPython.core.display.HTML object>"
            ],
            "text/html": [
              "<p style=\"color:grey\">group_id</p><h1 font-size: 3em>25</h1>"
            ]
          },
          "metadata": {}
        }
      ],
      "source": [
        "# Do not modify this code\n",
        "print_tile(size=\"h1\", key='group_id', value=group_id)"
      ]
    },
    {
      "cell_type": "markdown",
      "metadata": {
        "id": "pOtL0adbHi1X"
      },
      "source": [
        "---\n",
        "## B. Business Understanding"
      ]
    },
    {
      "cell_type": "code",
      "execution_count": 77,
      "metadata": {
        "id": "6-OFlhjIHi1X"
      },
      "outputs": [],
      "source": [
        "# <Student to fill this section>\n",
        "business_use_case_description = \"\"\"\n",
        "Explain clearly what is the goal of this project for the business.\n",
        "\"\"\""
      ]
    },
    {
      "cell_type": "code",
      "execution_count": 78,
      "metadata": {
        "colab": {
          "base_uri": "https://localhost:8080/",
          "height": 81
        },
        "id": "RH-7iFRiHi1X",
        "outputId": "8c06d408-43af-447d-da4c-d2017264170f"
      },
      "outputs": [
        {
          "output_type": "display_data",
          "data": {
            "text/plain": [
              "<IPython.core.display.HTML object>"
            ],
            "text/html": [
              "<p style=\"color:grey\">business_use_case_description</p><h3 font-size: 3em>\n",
              "Explain clearly what is the goal of this project for the business.\n",
              "</h3>"
            ]
          },
          "metadata": {}
        }
      ],
      "source": [
        "# Do not modify this code\n",
        "print_tile(size=\"h3\", key='business_use_case_description', value=business_use_case_description)"
      ]
    },
    {
      "cell_type": "code",
      "execution_count": 79,
      "metadata": {
        "id": "WxVzOzPYHi1X"
      },
      "outputs": [],
      "source": [
        "# <Student to fill this section>\n",
        "business_objectives = \"\"\"\n",
        "What will be the impact of accurate or incorrect results?\n",
        "\"\"\""
      ]
    },
    {
      "cell_type": "code",
      "execution_count": 80,
      "metadata": {
        "colab": {
          "base_uri": "https://localhost:8080/",
          "height": 81
        },
        "id": "E1E5Z_USHi1X",
        "outputId": "efce6484-7acd-4bb2-9d7e-dff050a57d95"
      },
      "outputs": [
        {
          "output_type": "display_data",
          "data": {
            "text/plain": [
              "<IPython.core.display.HTML object>"
            ],
            "text/html": [
              "<p style=\"color:grey\">business_objectives</p><h3 font-size: 3em>\n",
              "What will be the impact of accurate or incorrect results?\n",
              "</h3>"
            ]
          },
          "metadata": {}
        }
      ],
      "source": [
        "# Do not modify this code\n",
        "print_tile(size=\"h3\", key='business_objectives', value=business_objectives)"
      ]
    },
    {
      "cell_type": "code",
      "execution_count": 81,
      "metadata": {
        "id": "q92jQ74FHi1Y"
      },
      "outputs": [],
      "source": [
        "# <Student to fill this section>\n",
        "stakeholders_expectations_explanations = \"\"\"\n",
        "How will the results be used?\n",
        "Who will be the users of your predictions? Who will be impacted by your predictions?\n",
        "\"\"\""
      ]
    },
    {
      "cell_type": "code",
      "execution_count": 82,
      "metadata": {
        "colab": {
          "base_uri": "https://localhost:8080/",
          "height": 81
        },
        "id": "c3Q4MSC1Hi1Y",
        "outputId": "b38e45c6-978c-4c31-ce23-0447d5797e12"
      },
      "outputs": [
        {
          "output_type": "display_data",
          "data": {
            "text/plain": [
              "<IPython.core.display.HTML object>"
            ],
            "text/html": [
              "<p style=\"color:grey\">stakeholders_expectations_explanations</p><h3 font-size: 3em>\n",
              "How will the results be used?\n",
              "Who will be the users of your predictions? Who will be impacted by your predictions?\n",
              "</h3>"
            ]
          },
          "metadata": {}
        }
      ],
      "source": [
        "# Do not modify this code\n",
        "print_tile(size=\"h3\", key='stakeholders_expectations_explanations', value=stakeholders_expectations_explanations)"
      ]
    },
    {
      "cell_type": "markdown",
      "metadata": {
        "id": "IOc3exXvHi1Y"
      },
      "source": [
        "---\n",
        "## C. Data Understanding"
      ]
    },
    {
      "cell_type": "markdown",
      "metadata": {
        "id": "2MjXPcm2Hi1Y"
      },
      "source": [
        "### C.1   Load Datasets\n"
      ]
    },
    {
      "cell_type": "code",
      "execution_count": 83,
      "metadata": {
        "id": "J6uwRljTHi1Y"
      },
      "outputs": [],
      "source": [
        "# Loading the data\n",
        "train_df = pd.read_csv('/content/train.csv')\n",
        "test_df = pd.read_csv('/content/test.csv')"
      ]
    },
    {
      "cell_type": "code",
      "execution_count": 84,
      "metadata": {
        "colab": {
          "base_uri": "https://localhost:8080/",
          "height": 566
        },
        "id": "WaGqMNOdHi1Y",
        "outputId": "51d68b3a-cff9-4709-9014-00753c9d22b8"
      },
      "outputs": [
        {
          "output_type": "execute_result",
          "data": {
            "text/plain": [
              "                team  conf  GP  Min_per   Ortg   usg   eFG  TS_per  ORB_per  \\\n",
              "0            Pacific    BW  26     52.6  111.8  19.3  61.8   64.93      1.1   \n",
              "1        Mississippi   SEC   2      0.8   63.6  29.6  33.3   33.33      0.0   \n",
              "2  Stephen F. Austin  Slnd   4      0.6   61.4  21.7  50.0   50.00      0.0   \n",
              "3           Virginia   ACC  28     59.2   88.2  21.7  46.2   47.25      1.5   \n",
              "4               Elon    SC  21     13.7   47.5  15.0  26.2   26.20      5.8   \n",
              "5       Delaware St.  MEAC   6      1.4   19.5   8.5   0.0    0.00      7.5   \n",
              "6       Rhode Island   A10   2      0.4    0.0   6.9   0.0    0.00      0.0   \n",
              "7       Nicholls St.  Slnd   1      0.1    0.0   0.0   0.0    0.00      0.0   \n",
              "8        Alabama St.  SWAC  30     38.2  100.7  18.8  50.4   48.72      7.7   \n",
              "9          Tennessee   SEC  34     45.9  102.7  19.6  51.8   53.06      3.9   \n",
              "\n",
              "   DRB_per  ...     dgbpm    oreb    dreb    treb     ast     stl     blk  \\\n",
              "0      7.5  ... -1.342010  0.2308  1.5769  1.8077  2.2308  0.6538  0.0769   \n",
              "1     21.5  ... -5.421040  0.0000  1.0000  1.0000  0.0000  0.0000  0.0000   \n",
              "2      0.0  ...  6.466500  0.0000  0.0000  0.0000  0.0000  0.2500  0.0000   \n",
              "3      9.7  ...  1.459130  0.3214  2.0357  2.3571  3.0000  1.2857  0.0714   \n",
              "4      2.3  ... -3.756940  0.3810  0.1429  0.5238  0.4286  0.1905  0.0000   \n",
              "5      7.6  ... -6.055690  0.1667  0.1667  0.3333  0.0000  0.0000  0.0000   \n",
              "6      0.0  ... -5.947600  0.0000  0.0000  0.0000  0.0000  0.0000  0.0000   \n",
              "7      0.0  ... -5.549370  0.0000  0.0000  0.0000  0.0000  0.0000  0.0000   \n",
              "8     11.0  ...  2.470850  0.9667  1.6000  2.5667  1.2333  1.0667  0.1333   \n",
              "9      9.6  ... -0.093243  0.6765  1.5588  2.2353  0.8824  0.5000  0.1765   \n",
              "\n",
              "      pts                             player_id  drafted  \n",
              "0  9.6538  681edf6e-41cb-4fd1-ba91-da573e063fbc      0.0  \n",
              "1  2.0000  3542dcb7-19ad-47f2-8b3a-eb79eb3ec4c4      0.0  \n",
              "2  0.5000  ca0d8700-807d-4fce-a7a9-63922d1981e6      0.0  \n",
              "3  7.7500  01285c6b-bc71-4fa8-941a-28cf3976a117      0.0  \n",
              "4  0.5714  a962c41c-55ff-461e-8585-db32e4fa0580      0.0  \n",
              "5  0.0000  9cd0e4eb-61ff-4a32-9005-5b6231ea1fe9      0.0  \n",
              "6  0.0000  201ee955-4e00-4774-a486-1dea6ce3210d      0.0  \n",
              "7  0.0000  2fd19aa9-c020-49a3-9321-055dd6812875      0.0  \n",
              "8  4.5667  aa6b5eb6-efeb-4bef-8b48-5158657fe71d      0.0  \n",
              "9  7.5588  4fa4c224-4b41-45dc-add1-d76264554688      0.0  \n",
              "\n",
              "[10 rows x 62 columns]"
            ],
            "text/html": [
              "\n",
              "  <div id=\"df-6c61af58-e273-439d-b9a7-364671716c01\" class=\"colab-df-container\">\n",
              "    <div>\n",
              "<style scoped>\n",
              "    .dataframe tbody tr th:only-of-type {\n",
              "        vertical-align: middle;\n",
              "    }\n",
              "\n",
              "    .dataframe tbody tr th {\n",
              "        vertical-align: top;\n",
              "    }\n",
              "\n",
              "    .dataframe thead th {\n",
              "        text-align: right;\n",
              "    }\n",
              "</style>\n",
              "<table border=\"1\" class=\"dataframe\">\n",
              "  <thead>\n",
              "    <tr style=\"text-align: right;\">\n",
              "      <th></th>\n",
              "      <th>team</th>\n",
              "      <th>conf</th>\n",
              "      <th>GP</th>\n",
              "      <th>Min_per</th>\n",
              "      <th>Ortg</th>\n",
              "      <th>usg</th>\n",
              "      <th>eFG</th>\n",
              "      <th>TS_per</th>\n",
              "      <th>ORB_per</th>\n",
              "      <th>DRB_per</th>\n",
              "      <th>...</th>\n",
              "      <th>dgbpm</th>\n",
              "      <th>oreb</th>\n",
              "      <th>dreb</th>\n",
              "      <th>treb</th>\n",
              "      <th>ast</th>\n",
              "      <th>stl</th>\n",
              "      <th>blk</th>\n",
              "      <th>pts</th>\n",
              "      <th>player_id</th>\n",
              "      <th>drafted</th>\n",
              "    </tr>\n",
              "  </thead>\n",
              "  <tbody>\n",
              "    <tr>\n",
              "      <th>0</th>\n",
              "      <td>Pacific</td>\n",
              "      <td>BW</td>\n",
              "      <td>26</td>\n",
              "      <td>52.6</td>\n",
              "      <td>111.8</td>\n",
              "      <td>19.3</td>\n",
              "      <td>61.8</td>\n",
              "      <td>64.93</td>\n",
              "      <td>1.1</td>\n",
              "      <td>7.5</td>\n",
              "      <td>...</td>\n",
              "      <td>-1.342010</td>\n",
              "      <td>0.2308</td>\n",
              "      <td>1.5769</td>\n",
              "      <td>1.8077</td>\n",
              "      <td>2.2308</td>\n",
              "      <td>0.6538</td>\n",
              "      <td>0.0769</td>\n",
              "      <td>9.6538</td>\n",
              "      <td>681edf6e-41cb-4fd1-ba91-da573e063fbc</td>\n",
              "      <td>0.0</td>\n",
              "    </tr>\n",
              "    <tr>\n",
              "      <th>1</th>\n",
              "      <td>Mississippi</td>\n",
              "      <td>SEC</td>\n",
              "      <td>2</td>\n",
              "      <td>0.8</td>\n",
              "      <td>63.6</td>\n",
              "      <td>29.6</td>\n",
              "      <td>33.3</td>\n",
              "      <td>33.33</td>\n",
              "      <td>0.0</td>\n",
              "      <td>21.5</td>\n",
              "      <td>...</td>\n",
              "      <td>-5.421040</td>\n",
              "      <td>0.0000</td>\n",
              "      <td>1.0000</td>\n",
              "      <td>1.0000</td>\n",
              "      <td>0.0000</td>\n",
              "      <td>0.0000</td>\n",
              "      <td>0.0000</td>\n",
              "      <td>2.0000</td>\n",
              "      <td>3542dcb7-19ad-47f2-8b3a-eb79eb3ec4c4</td>\n",
              "      <td>0.0</td>\n",
              "    </tr>\n",
              "    <tr>\n",
              "      <th>2</th>\n",
              "      <td>Stephen F. Austin</td>\n",
              "      <td>Slnd</td>\n",
              "      <td>4</td>\n",
              "      <td>0.6</td>\n",
              "      <td>61.4</td>\n",
              "      <td>21.7</td>\n",
              "      <td>50.0</td>\n",
              "      <td>50.00</td>\n",
              "      <td>0.0</td>\n",
              "      <td>0.0</td>\n",
              "      <td>...</td>\n",
              "      <td>6.466500</td>\n",
              "      <td>0.0000</td>\n",
              "      <td>0.0000</td>\n",
              "      <td>0.0000</td>\n",
              "      <td>0.0000</td>\n",
              "      <td>0.2500</td>\n",
              "      <td>0.0000</td>\n",
              "      <td>0.5000</td>\n",
              "      <td>ca0d8700-807d-4fce-a7a9-63922d1981e6</td>\n",
              "      <td>0.0</td>\n",
              "    </tr>\n",
              "    <tr>\n",
              "      <th>3</th>\n",
              "      <td>Virginia</td>\n",
              "      <td>ACC</td>\n",
              "      <td>28</td>\n",
              "      <td>59.2</td>\n",
              "      <td>88.2</td>\n",
              "      <td>21.7</td>\n",
              "      <td>46.2</td>\n",
              "      <td>47.25</td>\n",
              "      <td>1.5</td>\n",
              "      <td>9.7</td>\n",
              "      <td>...</td>\n",
              "      <td>1.459130</td>\n",
              "      <td>0.3214</td>\n",
              "      <td>2.0357</td>\n",
              "      <td>2.3571</td>\n",
              "      <td>3.0000</td>\n",
              "      <td>1.2857</td>\n",
              "      <td>0.0714</td>\n",
              "      <td>7.7500</td>\n",
              "      <td>01285c6b-bc71-4fa8-941a-28cf3976a117</td>\n",
              "      <td>0.0</td>\n",
              "    </tr>\n",
              "    <tr>\n",
              "      <th>4</th>\n",
              "      <td>Elon</td>\n",
              "      <td>SC</td>\n",
              "      <td>21</td>\n",
              "      <td>13.7</td>\n",
              "      <td>47.5</td>\n",
              "      <td>15.0</td>\n",
              "      <td>26.2</td>\n",
              "      <td>26.20</td>\n",
              "      <td>5.8</td>\n",
              "      <td>2.3</td>\n",
              "      <td>...</td>\n",
              "      <td>-3.756940</td>\n",
              "      <td>0.3810</td>\n",
              "      <td>0.1429</td>\n",
              "      <td>0.5238</td>\n",
              "      <td>0.4286</td>\n",
              "      <td>0.1905</td>\n",
              "      <td>0.0000</td>\n",
              "      <td>0.5714</td>\n",
              "      <td>a962c41c-55ff-461e-8585-db32e4fa0580</td>\n",
              "      <td>0.0</td>\n",
              "    </tr>\n",
              "    <tr>\n",
              "      <th>5</th>\n",
              "      <td>Delaware St.</td>\n",
              "      <td>MEAC</td>\n",
              "      <td>6</td>\n",
              "      <td>1.4</td>\n",
              "      <td>19.5</td>\n",
              "      <td>8.5</td>\n",
              "      <td>0.0</td>\n",
              "      <td>0.00</td>\n",
              "      <td>7.5</td>\n",
              "      <td>7.6</td>\n",
              "      <td>...</td>\n",
              "      <td>-6.055690</td>\n",
              "      <td>0.1667</td>\n",
              "      <td>0.1667</td>\n",
              "      <td>0.3333</td>\n",
              "      <td>0.0000</td>\n",
              "      <td>0.0000</td>\n",
              "      <td>0.0000</td>\n",
              "      <td>0.0000</td>\n",
              "      <td>9cd0e4eb-61ff-4a32-9005-5b6231ea1fe9</td>\n",
              "      <td>0.0</td>\n",
              "    </tr>\n",
              "    <tr>\n",
              "      <th>6</th>\n",
              "      <td>Rhode Island</td>\n",
              "      <td>A10</td>\n",
              "      <td>2</td>\n",
              "      <td>0.4</td>\n",
              "      <td>0.0</td>\n",
              "      <td>6.9</td>\n",
              "      <td>0.0</td>\n",
              "      <td>0.00</td>\n",
              "      <td>0.0</td>\n",
              "      <td>0.0</td>\n",
              "      <td>...</td>\n",
              "      <td>-5.947600</td>\n",
              "      <td>0.0000</td>\n",
              "      <td>0.0000</td>\n",
              "      <td>0.0000</td>\n",
              "      <td>0.0000</td>\n",
              "      <td>0.0000</td>\n",
              "      <td>0.0000</td>\n",
              "      <td>0.0000</td>\n",
              "      <td>201ee955-4e00-4774-a486-1dea6ce3210d</td>\n",
              "      <td>0.0</td>\n",
              "    </tr>\n",
              "    <tr>\n",
              "      <th>7</th>\n",
              "      <td>Nicholls St.</td>\n",
              "      <td>Slnd</td>\n",
              "      <td>1</td>\n",
              "      <td>0.1</td>\n",
              "      <td>0.0</td>\n",
              "      <td>0.0</td>\n",
              "      <td>0.0</td>\n",
              "      <td>0.00</td>\n",
              "      <td>0.0</td>\n",
              "      <td>0.0</td>\n",
              "      <td>...</td>\n",
              "      <td>-5.549370</td>\n",
              "      <td>0.0000</td>\n",
              "      <td>0.0000</td>\n",
              "      <td>0.0000</td>\n",
              "      <td>0.0000</td>\n",
              "      <td>0.0000</td>\n",
              "      <td>0.0000</td>\n",
              "      <td>0.0000</td>\n",
              "      <td>2fd19aa9-c020-49a3-9321-055dd6812875</td>\n",
              "      <td>0.0</td>\n",
              "    </tr>\n",
              "    <tr>\n",
              "      <th>8</th>\n",
              "      <td>Alabama St.</td>\n",
              "      <td>SWAC</td>\n",
              "      <td>30</td>\n",
              "      <td>38.2</td>\n",
              "      <td>100.7</td>\n",
              "      <td>18.8</td>\n",
              "      <td>50.4</td>\n",
              "      <td>48.72</td>\n",
              "      <td>7.7</td>\n",
              "      <td>11.0</td>\n",
              "      <td>...</td>\n",
              "      <td>2.470850</td>\n",
              "      <td>0.9667</td>\n",
              "      <td>1.6000</td>\n",
              "      <td>2.5667</td>\n",
              "      <td>1.2333</td>\n",
              "      <td>1.0667</td>\n",
              "      <td>0.1333</td>\n",
              "      <td>4.5667</td>\n",
              "      <td>aa6b5eb6-efeb-4bef-8b48-5158657fe71d</td>\n",
              "      <td>0.0</td>\n",
              "    </tr>\n",
              "    <tr>\n",
              "      <th>9</th>\n",
              "      <td>Tennessee</td>\n",
              "      <td>SEC</td>\n",
              "      <td>34</td>\n",
              "      <td>45.9</td>\n",
              "      <td>102.7</td>\n",
              "      <td>19.6</td>\n",
              "      <td>51.8</td>\n",
              "      <td>53.06</td>\n",
              "      <td>3.9</td>\n",
              "      <td>9.6</td>\n",
              "      <td>...</td>\n",
              "      <td>-0.093243</td>\n",
              "      <td>0.6765</td>\n",
              "      <td>1.5588</td>\n",
              "      <td>2.2353</td>\n",
              "      <td>0.8824</td>\n",
              "      <td>0.5000</td>\n",
              "      <td>0.1765</td>\n",
              "      <td>7.5588</td>\n",
              "      <td>4fa4c224-4b41-45dc-add1-d76264554688</td>\n",
              "      <td>0.0</td>\n",
              "    </tr>\n",
              "  </tbody>\n",
              "</table>\n",
              "<p>10 rows × 62 columns</p>\n",
              "</div>\n",
              "    <div class=\"colab-df-buttons\">\n",
              "\n",
              "  <div class=\"colab-df-container\">\n",
              "    <button class=\"colab-df-convert\" onclick=\"convertToInteractive('df-6c61af58-e273-439d-b9a7-364671716c01')\"\n",
              "            title=\"Convert this dataframe to an interactive table.\"\n",
              "            style=\"display:none;\">\n",
              "\n",
              "  <svg xmlns=\"http://www.w3.org/2000/svg\" height=\"24px\" viewBox=\"0 -960 960 960\">\n",
              "    <path d=\"M120-120v-720h720v720H120Zm60-500h600v-160H180v160Zm220 220h160v-160H400v160Zm0 220h160v-160H400v160ZM180-400h160v-160H180v160Zm440 0h160v-160H620v160ZM180-180h160v-160H180v160Zm440 0h160v-160H620v160Z\"/>\n",
              "  </svg>\n",
              "    </button>\n",
              "\n",
              "  <style>\n",
              "    .colab-df-container {\n",
              "      display:flex;\n",
              "      gap: 12px;\n",
              "    }\n",
              "\n",
              "    .colab-df-convert {\n",
              "      background-color: #E8F0FE;\n",
              "      border: none;\n",
              "      border-radius: 50%;\n",
              "      cursor: pointer;\n",
              "      display: none;\n",
              "      fill: #1967D2;\n",
              "      height: 32px;\n",
              "      padding: 0 0 0 0;\n",
              "      width: 32px;\n",
              "    }\n",
              "\n",
              "    .colab-df-convert:hover {\n",
              "      background-color: #E2EBFA;\n",
              "      box-shadow: 0px 1px 2px rgba(60, 64, 67, 0.3), 0px 1px 3px 1px rgba(60, 64, 67, 0.15);\n",
              "      fill: #174EA6;\n",
              "    }\n",
              "\n",
              "    .colab-df-buttons div {\n",
              "      margin-bottom: 4px;\n",
              "    }\n",
              "\n",
              "    [theme=dark] .colab-df-convert {\n",
              "      background-color: #3B4455;\n",
              "      fill: #D2E3FC;\n",
              "    }\n",
              "\n",
              "    [theme=dark] .colab-df-convert:hover {\n",
              "      background-color: #434B5C;\n",
              "      box-shadow: 0px 1px 3px 1px rgba(0, 0, 0, 0.15);\n",
              "      filter: drop-shadow(0px 1px 2px rgba(0, 0, 0, 0.3));\n",
              "      fill: #FFFFFF;\n",
              "    }\n",
              "  </style>\n",
              "\n",
              "    <script>\n",
              "      const buttonEl =\n",
              "        document.querySelector('#df-6c61af58-e273-439d-b9a7-364671716c01 button.colab-df-convert');\n",
              "      buttonEl.style.display =\n",
              "        google.colab.kernel.accessAllowed ? 'block' : 'none';\n",
              "\n",
              "      async function convertToInteractive(key) {\n",
              "        const element = document.querySelector('#df-6c61af58-e273-439d-b9a7-364671716c01');\n",
              "        const dataTable =\n",
              "          await google.colab.kernel.invokeFunction('convertToInteractive',\n",
              "                                                    [key], {});\n",
              "        if (!dataTable) return;\n",
              "\n",
              "        const docLinkHtml = 'Like what you see? Visit the ' +\n",
              "          '<a target=\"_blank\" href=https://colab.research.google.com/notebooks/data_table.ipynb>data table notebook</a>'\n",
              "          + ' to learn more about interactive tables.';\n",
              "        element.innerHTML = '';\n",
              "        dataTable['output_type'] = 'display_data';\n",
              "        await google.colab.output.renderOutput(dataTable, element);\n",
              "        const docLink = document.createElement('div');\n",
              "        docLink.innerHTML = docLinkHtml;\n",
              "        element.appendChild(docLink);\n",
              "      }\n",
              "    </script>\n",
              "  </div>\n",
              "\n",
              "\n",
              "    <div id=\"df-0de99e17-88e2-4ec8-a160-29a45b7ec450\">\n",
              "      <button class=\"colab-df-quickchart\" onclick=\"quickchart('df-0de99e17-88e2-4ec8-a160-29a45b7ec450')\"\n",
              "                title=\"Suggest charts\"\n",
              "                style=\"display:none;\">\n",
              "\n",
              "<svg xmlns=\"http://www.w3.org/2000/svg\" height=\"24px\"viewBox=\"0 0 24 24\"\n",
              "     width=\"24px\">\n",
              "    <g>\n",
              "        <path d=\"M19 3H5c-1.1 0-2 .9-2 2v14c0 1.1.9 2 2 2h14c1.1 0 2-.9 2-2V5c0-1.1-.9-2-2-2zM9 17H7v-7h2v7zm4 0h-2V7h2v10zm4 0h-2v-4h2v4z\"/>\n",
              "    </g>\n",
              "</svg>\n",
              "      </button>\n",
              "\n",
              "<style>\n",
              "  .colab-df-quickchart {\n",
              "      --bg-color: #E8F0FE;\n",
              "      --fill-color: #1967D2;\n",
              "      --hover-bg-color: #E2EBFA;\n",
              "      --hover-fill-color: #174EA6;\n",
              "      --disabled-fill-color: #AAA;\n",
              "      --disabled-bg-color: #DDD;\n",
              "  }\n",
              "\n",
              "  [theme=dark] .colab-df-quickchart {\n",
              "      --bg-color: #3B4455;\n",
              "      --fill-color: #D2E3FC;\n",
              "      --hover-bg-color: #434B5C;\n",
              "      --hover-fill-color: #FFFFFF;\n",
              "      --disabled-bg-color: #3B4455;\n",
              "      --disabled-fill-color: #666;\n",
              "  }\n",
              "\n",
              "  .colab-df-quickchart {\n",
              "    background-color: var(--bg-color);\n",
              "    border: none;\n",
              "    border-radius: 50%;\n",
              "    cursor: pointer;\n",
              "    display: none;\n",
              "    fill: var(--fill-color);\n",
              "    height: 32px;\n",
              "    padding: 0;\n",
              "    width: 32px;\n",
              "  }\n",
              "\n",
              "  .colab-df-quickchart:hover {\n",
              "    background-color: var(--hover-bg-color);\n",
              "    box-shadow: 0 1px 2px rgba(60, 64, 67, 0.3), 0 1px 3px 1px rgba(60, 64, 67, 0.15);\n",
              "    fill: var(--button-hover-fill-color);\n",
              "  }\n",
              "\n",
              "  .colab-df-quickchart-complete:disabled,\n",
              "  .colab-df-quickchart-complete:disabled:hover {\n",
              "    background-color: var(--disabled-bg-color);\n",
              "    fill: var(--disabled-fill-color);\n",
              "    box-shadow: none;\n",
              "  }\n",
              "\n",
              "  .colab-df-spinner {\n",
              "    border: 2px solid var(--fill-color);\n",
              "    border-color: transparent;\n",
              "    border-bottom-color: var(--fill-color);\n",
              "    animation:\n",
              "      spin 1s steps(1) infinite;\n",
              "  }\n",
              "\n",
              "  @keyframes spin {\n",
              "    0% {\n",
              "      border-color: transparent;\n",
              "      border-bottom-color: var(--fill-color);\n",
              "      border-left-color: var(--fill-color);\n",
              "    }\n",
              "    20% {\n",
              "      border-color: transparent;\n",
              "      border-left-color: var(--fill-color);\n",
              "      border-top-color: var(--fill-color);\n",
              "    }\n",
              "    30% {\n",
              "      border-color: transparent;\n",
              "      border-left-color: var(--fill-color);\n",
              "      border-top-color: var(--fill-color);\n",
              "      border-right-color: var(--fill-color);\n",
              "    }\n",
              "    40% {\n",
              "      border-color: transparent;\n",
              "      border-right-color: var(--fill-color);\n",
              "      border-top-color: var(--fill-color);\n",
              "    }\n",
              "    60% {\n",
              "      border-color: transparent;\n",
              "      border-right-color: var(--fill-color);\n",
              "    }\n",
              "    80% {\n",
              "      border-color: transparent;\n",
              "      border-right-color: var(--fill-color);\n",
              "      border-bottom-color: var(--fill-color);\n",
              "    }\n",
              "    90% {\n",
              "      border-color: transparent;\n",
              "      border-bottom-color: var(--fill-color);\n",
              "    }\n",
              "  }\n",
              "</style>\n",
              "\n",
              "      <script>\n",
              "        async function quickchart(key) {\n",
              "          const quickchartButtonEl =\n",
              "            document.querySelector('#' + key + ' button');\n",
              "          quickchartButtonEl.disabled = true;  // To prevent multiple clicks.\n",
              "          quickchartButtonEl.classList.add('colab-df-spinner');\n",
              "          try {\n",
              "            const charts = await google.colab.kernel.invokeFunction(\n",
              "                'suggestCharts', [key], {});\n",
              "          } catch (error) {\n",
              "            console.error('Error during call to suggestCharts:', error);\n",
              "          }\n",
              "          quickchartButtonEl.classList.remove('colab-df-spinner');\n",
              "          quickchartButtonEl.classList.add('colab-df-quickchart-complete');\n",
              "        }\n",
              "        (() => {\n",
              "          let quickchartButtonEl =\n",
              "            document.querySelector('#df-0de99e17-88e2-4ec8-a160-29a45b7ec450 button');\n",
              "          quickchartButtonEl.style.display =\n",
              "            google.colab.kernel.accessAllowed ? 'block' : 'none';\n",
              "        })();\n",
              "      </script>\n",
              "    </div>\n",
              "\n",
              "    </div>\n",
              "  </div>\n"
            ],
            "application/vnd.google.colaboratory.intrinsic+json": {
              "type": "dataframe",
              "variable_name": "train_df"
            }
          },
          "metadata": {},
          "execution_count": 84
        }
      ],
      "source": [
        "# Viewing the training data\n",
        "train_df.head(10)"
      ]
    },
    {
      "cell_type": "code",
      "execution_count": 85,
      "metadata": {
        "colab": {
          "base_uri": "https://localhost:8080/",
          "height": 566
        },
        "id": "jwr6YcSyHi1Y",
        "outputId": "fe51c62f-e4e8-4324-88ae-9bedc7be437e"
      },
      "outputs": [
        {
          "output_type": "execute_result",
          "data": {
            "text/plain": [
              "                     team  conf  GP  Min_per   Ortg   usg    eFG  TS_per  \\\n",
              "0                UC Davis    BW   8      2.2   51.7  13.4   30.0   30.00   \n",
              "1                Campbell  BSth  25     16.4   85.0  25.2   50.0   52.10   \n",
              "2               Weber St.  BSky  29     50.5  117.8  16.8   61.8   59.77   \n",
              "3                    Ohio   MAC  17     14.9   85.8  13.1   34.9   34.88   \n",
              "4          New Mexico St.   WAC  26     17.1   85.8  10.8   48.1   49.46   \n",
              "5  Southeast Missouri St.   OVC  24     25.6   76.1  20.2   36.5   40.44   \n",
              "6                  Purdue   B10   8      2.4   93.4  24.5   46.2   46.15   \n",
              "7          South Carolina   SEC  30     62.7   97.6  26.2   44.9   48.86   \n",
              "8                  Butler    BE   7      1.5  100.7  21.2   41.7   44.30   \n",
              "9                  Tulane  Amer   4      0.7  200.0   7.2  100.0  100.00   \n",
              "\n",
              "   ORB_per  DRB_per  ...      ogbpm      dgbpm    oreb    dreb    treb  \\\n",
              "0      0.0     14.3  ... -11.240100  -4.721030  0.1000  0.6000  0.7000   \n",
              "1      2.0     11.8  ...  -2.972020  -1.741870  0.1481  0.9259  1.0741   \n",
              "2     12.3     17.1  ...   0.739055  -0.259202  2.1562  2.7500  4.9062   \n",
              "3      5.1     13.7  ...  -3.339750  -0.573442  0.5789  1.5789  2.1579   \n",
              "4      5.6     17.4  ...  -4.184970   1.718210  0.4643  1.1429  1.6071   \n",
              "5      4.1      9.5  ...  -4.721770  -3.337820  0.4231  0.9615  1.3846   \n",
              "6     11.2     20.6  ... -14.322600   0.149733  0.3750  0.6250  1.0000   \n",
              "7      3.0      9.1  ...   1.504390   0.045342  0.7333  2.1000  2.8333   \n",
              "8      6.9     42.8  ...   3.857440   1.101540  0.1429  1.0000  1.1429   \n",
              "9      0.0     13.5  ...   3.462410  15.525700  0.0000  0.2500  0.2500   \n",
              "\n",
              "      ast     stl     blk      pts                             player_id  \n",
              "0  0.2000  0.1000  0.0000   1.5000  c6d3ce49-28b6-4756-8061-b2bd68730c52  \n",
              "1  0.1481  0.4074  0.1111   4.0741  24dd0ae2-9d22-4d31-9cb6-c31f58f903b5  \n",
              "2  0.7188  0.4062  1.0625   6.7500  0cf3e822-9446-4285-b7ed-7c19d8e976fe  \n",
              "3  0.5263  0.1579  0.1579   2.6842  b1a88de0-6852-4597-bb92-9164b40758e5  \n",
              "4  0.1071  0.0714  0.4286   1.7500  97c327ce-d051-40f0-9166-1a43557c3c92  \n",
              "5  0.6538  0.2692  0.0769   3.0385  34fe41f0-255d-4274-8462-860a221a9d5a  \n",
              "6  0.1250  0.2500  0.3750   1.5000  f7292ab7-feed-434f-8cba-b193a02276c0  \n",
              "7  3.1667  0.7667  0.1333  12.1000  ac793895-8cec-4d08-9480-5d0458522614  \n",
              "8  0.0000  0.0000  0.1429   1.0000  8b241a30-61cc-43a2-a4b3-fe4a632ef573  \n",
              "9  0.0000  0.2500  0.5000   1.0000  5ab8c5c9-eac3-469a-9400-63f685d365b5  \n",
              "\n",
              "[10 rows x 61 columns]"
            ],
            "text/html": [
              "\n",
              "  <div id=\"df-e133d713-5eff-40bb-8b8d-1db056cb53e6\" class=\"colab-df-container\">\n",
              "    <div>\n",
              "<style scoped>\n",
              "    .dataframe tbody tr th:only-of-type {\n",
              "        vertical-align: middle;\n",
              "    }\n",
              "\n",
              "    .dataframe tbody tr th {\n",
              "        vertical-align: top;\n",
              "    }\n",
              "\n",
              "    .dataframe thead th {\n",
              "        text-align: right;\n",
              "    }\n",
              "</style>\n",
              "<table border=\"1\" class=\"dataframe\">\n",
              "  <thead>\n",
              "    <tr style=\"text-align: right;\">\n",
              "      <th></th>\n",
              "      <th>team</th>\n",
              "      <th>conf</th>\n",
              "      <th>GP</th>\n",
              "      <th>Min_per</th>\n",
              "      <th>Ortg</th>\n",
              "      <th>usg</th>\n",
              "      <th>eFG</th>\n",
              "      <th>TS_per</th>\n",
              "      <th>ORB_per</th>\n",
              "      <th>DRB_per</th>\n",
              "      <th>...</th>\n",
              "      <th>ogbpm</th>\n",
              "      <th>dgbpm</th>\n",
              "      <th>oreb</th>\n",
              "      <th>dreb</th>\n",
              "      <th>treb</th>\n",
              "      <th>ast</th>\n",
              "      <th>stl</th>\n",
              "      <th>blk</th>\n",
              "      <th>pts</th>\n",
              "      <th>player_id</th>\n",
              "    </tr>\n",
              "  </thead>\n",
              "  <tbody>\n",
              "    <tr>\n",
              "      <th>0</th>\n",
              "      <td>UC Davis</td>\n",
              "      <td>BW</td>\n",
              "      <td>8</td>\n",
              "      <td>2.2</td>\n",
              "      <td>51.7</td>\n",
              "      <td>13.4</td>\n",
              "      <td>30.0</td>\n",
              "      <td>30.00</td>\n",
              "      <td>0.0</td>\n",
              "      <td>14.3</td>\n",
              "      <td>...</td>\n",
              "      <td>-11.240100</td>\n",
              "      <td>-4.721030</td>\n",
              "      <td>0.1000</td>\n",
              "      <td>0.6000</td>\n",
              "      <td>0.7000</td>\n",
              "      <td>0.2000</td>\n",
              "      <td>0.1000</td>\n",
              "      <td>0.0000</td>\n",
              "      <td>1.5000</td>\n",
              "      <td>c6d3ce49-28b6-4756-8061-b2bd68730c52</td>\n",
              "    </tr>\n",
              "    <tr>\n",
              "      <th>1</th>\n",
              "      <td>Campbell</td>\n",
              "      <td>BSth</td>\n",
              "      <td>25</td>\n",
              "      <td>16.4</td>\n",
              "      <td>85.0</td>\n",
              "      <td>25.2</td>\n",
              "      <td>50.0</td>\n",
              "      <td>52.10</td>\n",
              "      <td>2.0</td>\n",
              "      <td>11.8</td>\n",
              "      <td>...</td>\n",
              "      <td>-2.972020</td>\n",
              "      <td>-1.741870</td>\n",
              "      <td>0.1481</td>\n",
              "      <td>0.9259</td>\n",
              "      <td>1.0741</td>\n",
              "      <td>0.1481</td>\n",
              "      <td>0.4074</td>\n",
              "      <td>0.1111</td>\n",
              "      <td>4.0741</td>\n",
              "      <td>24dd0ae2-9d22-4d31-9cb6-c31f58f903b5</td>\n",
              "    </tr>\n",
              "    <tr>\n",
              "      <th>2</th>\n",
              "      <td>Weber St.</td>\n",
              "      <td>BSky</td>\n",
              "      <td>29</td>\n",
              "      <td>50.5</td>\n",
              "      <td>117.8</td>\n",
              "      <td>16.8</td>\n",
              "      <td>61.8</td>\n",
              "      <td>59.77</td>\n",
              "      <td>12.3</td>\n",
              "      <td>17.1</td>\n",
              "      <td>...</td>\n",
              "      <td>0.739055</td>\n",
              "      <td>-0.259202</td>\n",
              "      <td>2.1562</td>\n",
              "      <td>2.7500</td>\n",
              "      <td>4.9062</td>\n",
              "      <td>0.7188</td>\n",
              "      <td>0.4062</td>\n",
              "      <td>1.0625</td>\n",
              "      <td>6.7500</td>\n",
              "      <td>0cf3e822-9446-4285-b7ed-7c19d8e976fe</td>\n",
              "    </tr>\n",
              "    <tr>\n",
              "      <th>3</th>\n",
              "      <td>Ohio</td>\n",
              "      <td>MAC</td>\n",
              "      <td>17</td>\n",
              "      <td>14.9</td>\n",
              "      <td>85.8</td>\n",
              "      <td>13.1</td>\n",
              "      <td>34.9</td>\n",
              "      <td>34.88</td>\n",
              "      <td>5.1</td>\n",
              "      <td>13.7</td>\n",
              "      <td>...</td>\n",
              "      <td>-3.339750</td>\n",
              "      <td>-0.573442</td>\n",
              "      <td>0.5789</td>\n",
              "      <td>1.5789</td>\n",
              "      <td>2.1579</td>\n",
              "      <td>0.5263</td>\n",
              "      <td>0.1579</td>\n",
              "      <td>0.1579</td>\n",
              "      <td>2.6842</td>\n",
              "      <td>b1a88de0-6852-4597-bb92-9164b40758e5</td>\n",
              "    </tr>\n",
              "    <tr>\n",
              "      <th>4</th>\n",
              "      <td>New Mexico St.</td>\n",
              "      <td>WAC</td>\n",
              "      <td>26</td>\n",
              "      <td>17.1</td>\n",
              "      <td>85.8</td>\n",
              "      <td>10.8</td>\n",
              "      <td>48.1</td>\n",
              "      <td>49.46</td>\n",
              "      <td>5.6</td>\n",
              "      <td>17.4</td>\n",
              "      <td>...</td>\n",
              "      <td>-4.184970</td>\n",
              "      <td>1.718210</td>\n",
              "      <td>0.4643</td>\n",
              "      <td>1.1429</td>\n",
              "      <td>1.6071</td>\n",
              "      <td>0.1071</td>\n",
              "      <td>0.0714</td>\n",
              "      <td>0.4286</td>\n",
              "      <td>1.7500</td>\n",
              "      <td>97c327ce-d051-40f0-9166-1a43557c3c92</td>\n",
              "    </tr>\n",
              "    <tr>\n",
              "      <th>5</th>\n",
              "      <td>Southeast Missouri St.</td>\n",
              "      <td>OVC</td>\n",
              "      <td>24</td>\n",
              "      <td>25.6</td>\n",
              "      <td>76.1</td>\n",
              "      <td>20.2</td>\n",
              "      <td>36.5</td>\n",
              "      <td>40.44</td>\n",
              "      <td>4.1</td>\n",
              "      <td>9.5</td>\n",
              "      <td>...</td>\n",
              "      <td>-4.721770</td>\n",
              "      <td>-3.337820</td>\n",
              "      <td>0.4231</td>\n",
              "      <td>0.9615</td>\n",
              "      <td>1.3846</td>\n",
              "      <td>0.6538</td>\n",
              "      <td>0.2692</td>\n",
              "      <td>0.0769</td>\n",
              "      <td>3.0385</td>\n",
              "      <td>34fe41f0-255d-4274-8462-860a221a9d5a</td>\n",
              "    </tr>\n",
              "    <tr>\n",
              "      <th>6</th>\n",
              "      <td>Purdue</td>\n",
              "      <td>B10</td>\n",
              "      <td>8</td>\n",
              "      <td>2.4</td>\n",
              "      <td>93.4</td>\n",
              "      <td>24.5</td>\n",
              "      <td>46.2</td>\n",
              "      <td>46.15</td>\n",
              "      <td>11.2</td>\n",
              "      <td>20.6</td>\n",
              "      <td>...</td>\n",
              "      <td>-14.322600</td>\n",
              "      <td>0.149733</td>\n",
              "      <td>0.3750</td>\n",
              "      <td>0.6250</td>\n",
              "      <td>1.0000</td>\n",
              "      <td>0.1250</td>\n",
              "      <td>0.2500</td>\n",
              "      <td>0.3750</td>\n",
              "      <td>1.5000</td>\n",
              "      <td>f7292ab7-feed-434f-8cba-b193a02276c0</td>\n",
              "    </tr>\n",
              "    <tr>\n",
              "      <th>7</th>\n",
              "      <td>South Carolina</td>\n",
              "      <td>SEC</td>\n",
              "      <td>30</td>\n",
              "      <td>62.7</td>\n",
              "      <td>97.6</td>\n",
              "      <td>26.2</td>\n",
              "      <td>44.9</td>\n",
              "      <td>48.86</td>\n",
              "      <td>3.0</td>\n",
              "      <td>9.1</td>\n",
              "      <td>...</td>\n",
              "      <td>1.504390</td>\n",
              "      <td>0.045342</td>\n",
              "      <td>0.7333</td>\n",
              "      <td>2.1000</td>\n",
              "      <td>2.8333</td>\n",
              "      <td>3.1667</td>\n",
              "      <td>0.7667</td>\n",
              "      <td>0.1333</td>\n",
              "      <td>12.1000</td>\n",
              "      <td>ac793895-8cec-4d08-9480-5d0458522614</td>\n",
              "    </tr>\n",
              "    <tr>\n",
              "      <th>8</th>\n",
              "      <td>Butler</td>\n",
              "      <td>BE</td>\n",
              "      <td>7</td>\n",
              "      <td>1.5</td>\n",
              "      <td>100.7</td>\n",
              "      <td>21.2</td>\n",
              "      <td>41.7</td>\n",
              "      <td>44.30</td>\n",
              "      <td>6.9</td>\n",
              "      <td>42.8</td>\n",
              "      <td>...</td>\n",
              "      <td>3.857440</td>\n",
              "      <td>1.101540</td>\n",
              "      <td>0.1429</td>\n",
              "      <td>1.0000</td>\n",
              "      <td>1.1429</td>\n",
              "      <td>0.0000</td>\n",
              "      <td>0.0000</td>\n",
              "      <td>0.1429</td>\n",
              "      <td>1.0000</td>\n",
              "      <td>8b241a30-61cc-43a2-a4b3-fe4a632ef573</td>\n",
              "    </tr>\n",
              "    <tr>\n",
              "      <th>9</th>\n",
              "      <td>Tulane</td>\n",
              "      <td>Amer</td>\n",
              "      <td>4</td>\n",
              "      <td>0.7</td>\n",
              "      <td>200.0</td>\n",
              "      <td>7.2</td>\n",
              "      <td>100.0</td>\n",
              "      <td>100.00</td>\n",
              "      <td>0.0</td>\n",
              "      <td>13.5</td>\n",
              "      <td>...</td>\n",
              "      <td>3.462410</td>\n",
              "      <td>15.525700</td>\n",
              "      <td>0.0000</td>\n",
              "      <td>0.2500</td>\n",
              "      <td>0.2500</td>\n",
              "      <td>0.0000</td>\n",
              "      <td>0.2500</td>\n",
              "      <td>0.5000</td>\n",
              "      <td>1.0000</td>\n",
              "      <td>5ab8c5c9-eac3-469a-9400-63f685d365b5</td>\n",
              "    </tr>\n",
              "  </tbody>\n",
              "</table>\n",
              "<p>10 rows × 61 columns</p>\n",
              "</div>\n",
              "    <div class=\"colab-df-buttons\">\n",
              "\n",
              "  <div class=\"colab-df-container\">\n",
              "    <button class=\"colab-df-convert\" onclick=\"convertToInteractive('df-e133d713-5eff-40bb-8b8d-1db056cb53e6')\"\n",
              "            title=\"Convert this dataframe to an interactive table.\"\n",
              "            style=\"display:none;\">\n",
              "\n",
              "  <svg xmlns=\"http://www.w3.org/2000/svg\" height=\"24px\" viewBox=\"0 -960 960 960\">\n",
              "    <path d=\"M120-120v-720h720v720H120Zm60-500h600v-160H180v160Zm220 220h160v-160H400v160Zm0 220h160v-160H400v160ZM180-400h160v-160H180v160Zm440 0h160v-160H620v160ZM180-180h160v-160H180v160Zm440 0h160v-160H620v160Z\"/>\n",
              "  </svg>\n",
              "    </button>\n",
              "\n",
              "  <style>\n",
              "    .colab-df-container {\n",
              "      display:flex;\n",
              "      gap: 12px;\n",
              "    }\n",
              "\n",
              "    .colab-df-convert {\n",
              "      background-color: #E8F0FE;\n",
              "      border: none;\n",
              "      border-radius: 50%;\n",
              "      cursor: pointer;\n",
              "      display: none;\n",
              "      fill: #1967D2;\n",
              "      height: 32px;\n",
              "      padding: 0 0 0 0;\n",
              "      width: 32px;\n",
              "    }\n",
              "\n",
              "    .colab-df-convert:hover {\n",
              "      background-color: #E2EBFA;\n",
              "      box-shadow: 0px 1px 2px rgba(60, 64, 67, 0.3), 0px 1px 3px 1px rgba(60, 64, 67, 0.15);\n",
              "      fill: #174EA6;\n",
              "    }\n",
              "\n",
              "    .colab-df-buttons div {\n",
              "      margin-bottom: 4px;\n",
              "    }\n",
              "\n",
              "    [theme=dark] .colab-df-convert {\n",
              "      background-color: #3B4455;\n",
              "      fill: #D2E3FC;\n",
              "    }\n",
              "\n",
              "    [theme=dark] .colab-df-convert:hover {\n",
              "      background-color: #434B5C;\n",
              "      box-shadow: 0px 1px 3px 1px rgba(0, 0, 0, 0.15);\n",
              "      filter: drop-shadow(0px 1px 2px rgba(0, 0, 0, 0.3));\n",
              "      fill: #FFFFFF;\n",
              "    }\n",
              "  </style>\n",
              "\n",
              "    <script>\n",
              "      const buttonEl =\n",
              "        document.querySelector('#df-e133d713-5eff-40bb-8b8d-1db056cb53e6 button.colab-df-convert');\n",
              "      buttonEl.style.display =\n",
              "        google.colab.kernel.accessAllowed ? 'block' : 'none';\n",
              "\n",
              "      async function convertToInteractive(key) {\n",
              "        const element = document.querySelector('#df-e133d713-5eff-40bb-8b8d-1db056cb53e6');\n",
              "        const dataTable =\n",
              "          await google.colab.kernel.invokeFunction('convertToInteractive',\n",
              "                                                    [key], {});\n",
              "        if (!dataTable) return;\n",
              "\n",
              "        const docLinkHtml = 'Like what you see? Visit the ' +\n",
              "          '<a target=\"_blank\" href=https://colab.research.google.com/notebooks/data_table.ipynb>data table notebook</a>'\n",
              "          + ' to learn more about interactive tables.';\n",
              "        element.innerHTML = '';\n",
              "        dataTable['output_type'] = 'display_data';\n",
              "        await google.colab.output.renderOutput(dataTable, element);\n",
              "        const docLink = document.createElement('div');\n",
              "        docLink.innerHTML = docLinkHtml;\n",
              "        element.appendChild(docLink);\n",
              "      }\n",
              "    </script>\n",
              "  </div>\n",
              "\n",
              "\n",
              "    <div id=\"df-8bfb8b2c-5611-4398-9501-faea7c55f544\">\n",
              "      <button class=\"colab-df-quickchart\" onclick=\"quickchart('df-8bfb8b2c-5611-4398-9501-faea7c55f544')\"\n",
              "                title=\"Suggest charts\"\n",
              "                style=\"display:none;\">\n",
              "\n",
              "<svg xmlns=\"http://www.w3.org/2000/svg\" height=\"24px\"viewBox=\"0 0 24 24\"\n",
              "     width=\"24px\">\n",
              "    <g>\n",
              "        <path d=\"M19 3H5c-1.1 0-2 .9-2 2v14c0 1.1.9 2 2 2h14c1.1 0 2-.9 2-2V5c0-1.1-.9-2-2-2zM9 17H7v-7h2v7zm4 0h-2V7h2v10zm4 0h-2v-4h2v4z\"/>\n",
              "    </g>\n",
              "</svg>\n",
              "      </button>\n",
              "\n",
              "<style>\n",
              "  .colab-df-quickchart {\n",
              "      --bg-color: #E8F0FE;\n",
              "      --fill-color: #1967D2;\n",
              "      --hover-bg-color: #E2EBFA;\n",
              "      --hover-fill-color: #174EA6;\n",
              "      --disabled-fill-color: #AAA;\n",
              "      --disabled-bg-color: #DDD;\n",
              "  }\n",
              "\n",
              "  [theme=dark] .colab-df-quickchart {\n",
              "      --bg-color: #3B4455;\n",
              "      --fill-color: #D2E3FC;\n",
              "      --hover-bg-color: #434B5C;\n",
              "      --hover-fill-color: #FFFFFF;\n",
              "      --disabled-bg-color: #3B4455;\n",
              "      --disabled-fill-color: #666;\n",
              "  }\n",
              "\n",
              "  .colab-df-quickchart {\n",
              "    background-color: var(--bg-color);\n",
              "    border: none;\n",
              "    border-radius: 50%;\n",
              "    cursor: pointer;\n",
              "    display: none;\n",
              "    fill: var(--fill-color);\n",
              "    height: 32px;\n",
              "    padding: 0;\n",
              "    width: 32px;\n",
              "  }\n",
              "\n",
              "  .colab-df-quickchart:hover {\n",
              "    background-color: var(--hover-bg-color);\n",
              "    box-shadow: 0 1px 2px rgba(60, 64, 67, 0.3), 0 1px 3px 1px rgba(60, 64, 67, 0.15);\n",
              "    fill: var(--button-hover-fill-color);\n",
              "  }\n",
              "\n",
              "  .colab-df-quickchart-complete:disabled,\n",
              "  .colab-df-quickchart-complete:disabled:hover {\n",
              "    background-color: var(--disabled-bg-color);\n",
              "    fill: var(--disabled-fill-color);\n",
              "    box-shadow: none;\n",
              "  }\n",
              "\n",
              "  .colab-df-spinner {\n",
              "    border: 2px solid var(--fill-color);\n",
              "    border-color: transparent;\n",
              "    border-bottom-color: var(--fill-color);\n",
              "    animation:\n",
              "      spin 1s steps(1) infinite;\n",
              "  }\n",
              "\n",
              "  @keyframes spin {\n",
              "    0% {\n",
              "      border-color: transparent;\n",
              "      border-bottom-color: var(--fill-color);\n",
              "      border-left-color: var(--fill-color);\n",
              "    }\n",
              "    20% {\n",
              "      border-color: transparent;\n",
              "      border-left-color: var(--fill-color);\n",
              "      border-top-color: var(--fill-color);\n",
              "    }\n",
              "    30% {\n",
              "      border-color: transparent;\n",
              "      border-left-color: var(--fill-color);\n",
              "      border-top-color: var(--fill-color);\n",
              "      border-right-color: var(--fill-color);\n",
              "    }\n",
              "    40% {\n",
              "      border-color: transparent;\n",
              "      border-right-color: var(--fill-color);\n",
              "      border-top-color: var(--fill-color);\n",
              "    }\n",
              "    60% {\n",
              "      border-color: transparent;\n",
              "      border-right-color: var(--fill-color);\n",
              "    }\n",
              "    80% {\n",
              "      border-color: transparent;\n",
              "      border-right-color: var(--fill-color);\n",
              "      border-bottom-color: var(--fill-color);\n",
              "    }\n",
              "    90% {\n",
              "      border-color: transparent;\n",
              "      border-bottom-color: var(--fill-color);\n",
              "    }\n",
              "  }\n",
              "</style>\n",
              "\n",
              "      <script>\n",
              "        async function quickchart(key) {\n",
              "          const quickchartButtonEl =\n",
              "            document.querySelector('#' + key + ' button');\n",
              "          quickchartButtonEl.disabled = true;  // To prevent multiple clicks.\n",
              "          quickchartButtonEl.classList.add('colab-df-spinner');\n",
              "          try {\n",
              "            const charts = await google.colab.kernel.invokeFunction(\n",
              "                'suggestCharts', [key], {});\n",
              "          } catch (error) {\n",
              "            console.error('Error during call to suggestCharts:', error);\n",
              "          }\n",
              "          quickchartButtonEl.classList.remove('colab-df-spinner');\n",
              "          quickchartButtonEl.classList.add('colab-df-quickchart-complete');\n",
              "        }\n",
              "        (() => {\n",
              "          let quickchartButtonEl =\n",
              "            document.querySelector('#df-8bfb8b2c-5611-4398-9501-faea7c55f544 button');\n",
              "          quickchartButtonEl.style.display =\n",
              "            google.colab.kernel.accessAllowed ? 'block' : 'none';\n",
              "        })();\n",
              "      </script>\n",
              "    </div>\n",
              "\n",
              "    </div>\n",
              "  </div>\n"
            ],
            "application/vnd.google.colaboratory.intrinsic+json": {
              "type": "dataframe",
              "variable_name": "test_df"
            }
          },
          "metadata": {},
          "execution_count": 85
        }
      ],
      "source": [
        "# Viewing the test data\n",
        "test_df.head(10)"
      ]
    },
    {
      "cell_type": "code",
      "execution_count": 86,
      "metadata": {
        "colab": {
          "base_uri": "https://localhost:8080/"
        },
        "id": "fk6Axny8Hi1Z",
        "outputId": "75bbde82-2f02-48d5-965e-c8aaab089853"
      },
      "outputs": [
        {
          "output_type": "stream",
          "name": "stdout",
          "text": [
            "Training data: (14774, 62)\n",
            "Testing data: (1297, 61)\n"
          ]
        }
      ],
      "source": [
        "# Viewing the shape\n",
        "print('Training data:',train_df.shape)\n",
        "print('Testing data:',test_df.shape)"
      ]
    },
    {
      "cell_type": "code",
      "execution_count": 87,
      "metadata": {
        "colab": {
          "base_uri": "https://localhost:8080/"
        },
        "id": "MUhWTmnCHi1Z",
        "outputId": "66b8215a-0b09-4bff-fa21-efd741cea07c"
      },
      "outputs": [
        {
          "output_type": "stream",
          "name": "stdout",
          "text": [
            "<class 'pandas.core.frame.DataFrame'>\n",
            "RangeIndex: 14774 entries, 0 to 14773\n",
            "Data columns (total 62 columns):\n",
            " #   Column               Non-Null Count  Dtype  \n",
            "---  ------               --------------  -----  \n",
            " 0   team                 14774 non-null  object \n",
            " 1   conf                 14774 non-null  object \n",
            " 2   GP                   14774 non-null  int64  \n",
            " 3   Min_per              14774 non-null  float64\n",
            " 4   Ortg                 14774 non-null  float64\n",
            " 5   usg                  14774 non-null  float64\n",
            " 6   eFG                  14774 non-null  float64\n",
            " 7   TS_per               14774 non-null  float64\n",
            " 8   ORB_per              14774 non-null  float64\n",
            " 9   DRB_per              14774 non-null  float64\n",
            " 10  AST_per              14774 non-null  float64\n",
            " 11  TO_per               14774 non-null  float64\n",
            " 12  FTM                  14774 non-null  int64  \n",
            " 13  FTA                  14774 non-null  int64  \n",
            " 14  FT_per               14774 non-null  float64\n",
            " 15  twoPM                14774 non-null  int64  \n",
            " 16  twoPA                14774 non-null  int64  \n",
            " 17  twoP_per             14774 non-null  float64\n",
            " 18  TPM                  14774 non-null  int64  \n",
            " 19  TPA                  14774 non-null  int64  \n",
            " 20  TP_per               14774 non-null  float64\n",
            " 21  blk_per              14774 non-null  float64\n",
            " 22  stl_per              14774 non-null  float64\n",
            " 23  ftr                  14774 non-null  float64\n",
            " 24  yr                   14774 non-null  object \n",
            " 25  ht                   14766 non-null  object \n",
            " 26  porpag               14774 non-null  float64\n",
            " 27  adjoe                14774 non-null  float64\n",
            " 28  pfr                  14774 non-null  float64\n",
            " 29  year                 14774 non-null  int64  \n",
            " 30  type                 14774 non-null  object \n",
            " 31  Rec_Rank             4889 non-null   float64\n",
            " 32  ast_tov              13239 non-null  float64\n",
            " 33  rimmade              12699 non-null  float64\n",
            " 34  rimmade_rimmiss      12699 non-null  float64\n",
            " 35  midmade              12699 non-null  float64\n",
            " 36  midmade_midmiss      12699 non-null  float64\n",
            " 37  rim_ratio            11571 non-null  float64\n",
            " 38  mid_ratio            11583 non-null  float64\n",
            " 39  dunksmade            12699 non-null  float64\n",
            " 40  dunksmiss_dunksmade  12699 non-null  float64\n",
            " 41  dunks_ratio          5386 non-null   float64\n",
            " 42  drtg                 14769 non-null  float64\n",
            " 43  adrtg                14769 non-null  float64\n",
            " 44  dporpag              14769 non-null  float64\n",
            " 45  stops                14769 non-null  float64\n",
            " 46  bpm                  14769 non-null  float64\n",
            " 47  obpm                 14769 non-null  float64\n",
            " 48  dbpm                 14769 non-null  float64\n",
            " 49  gbpm                 14769 non-null  float64\n",
            " 50  mp                   14773 non-null  float64\n",
            " 51  ogbpm                14769 non-null  float64\n",
            " 52  dgbpm                14769 non-null  float64\n",
            " 53  oreb                 14773 non-null  float64\n",
            " 54  dreb                 14773 non-null  float64\n",
            " 55  treb                 14773 non-null  float64\n",
            " 56  ast                  14773 non-null  float64\n",
            " 57  stl                  14773 non-null  float64\n",
            " 58  blk                  14773 non-null  float64\n",
            " 59  pts                  14773 non-null  float64\n",
            " 60  player_id            14774 non-null  object \n",
            " 61  drafted              14774 non-null  float64\n",
            "dtypes: float64(48), int64(8), object(6)\n",
            "memory usage: 7.0+ MB\n"
          ]
        }
      ],
      "source": [
        "# Viewing the info of training data\n",
        "train_df.info()"
      ]
    },
    {
      "cell_type": "code",
      "execution_count": 88,
      "metadata": {
        "colab": {
          "base_uri": "https://localhost:8080/"
        },
        "id": "DBTHSglZHi1Z",
        "outputId": "4abd1e73-4f66-44e1-9bce-694bfb2b18c9"
      },
      "outputs": [
        {
          "output_type": "stream",
          "name": "stdout",
          "text": [
            "<class 'pandas.core.frame.DataFrame'>\n",
            "RangeIndex: 1297 entries, 0 to 1296\n",
            "Data columns (total 61 columns):\n",
            " #   Column               Non-Null Count  Dtype  \n",
            "---  ------               --------------  -----  \n",
            " 0   team                 1297 non-null   object \n",
            " 1   conf                 1297 non-null   object \n",
            " 2   GP                   1297 non-null   int64  \n",
            " 3   Min_per              1297 non-null   float64\n",
            " 4   Ortg                 1297 non-null   float64\n",
            " 5   usg                  1297 non-null   float64\n",
            " 6   eFG                  1297 non-null   float64\n",
            " 7   TS_per               1297 non-null   float64\n",
            " 8   ORB_per              1297 non-null   float64\n",
            " 9   DRB_per              1297 non-null   float64\n",
            " 10  AST_per              1297 non-null   float64\n",
            " 11  TO_per               1297 non-null   float64\n",
            " 12  FTM                  1297 non-null   int64  \n",
            " 13  FTA                  1297 non-null   int64  \n",
            " 14  FT_per               1297 non-null   float64\n",
            " 15  twoPM                1297 non-null   int64  \n",
            " 16  twoPA                1297 non-null   int64  \n",
            " 17  twoP_per             1297 non-null   float64\n",
            " 18  TPM                  1297 non-null   int64  \n",
            " 19  TPA                  1297 non-null   int64  \n",
            " 20  TP_per               1297 non-null   float64\n",
            " 21  blk_per              1297 non-null   float64\n",
            " 22  stl_per              1297 non-null   float64\n",
            " 23  ftr                  1297 non-null   float64\n",
            " 24  yr                   1297 non-null   object \n",
            " 25  ht                   1291 non-null   object \n",
            " 26  porpag               1297 non-null   float64\n",
            " 27  adjoe                1297 non-null   float64\n",
            " 28  pfr                  1297 non-null   float64\n",
            " 29  year                 1297 non-null   int64  \n",
            " 30  type                 1297 non-null   object \n",
            " 31  Rec_Rank             403 non-null    float64\n",
            " 32  ast_tov              1172 non-null   float64\n",
            " 33  rimmade              1236 non-null   float64\n",
            " 34  rimmade_rimmiss      1236 non-null   float64\n",
            " 35  midmade              1236 non-null   float64\n",
            " 36  midmade_midmiss      1236 non-null   float64\n",
            " 37  rim_ratio            1119 non-null   float64\n",
            " 38  mid_ratio            1101 non-null   float64\n",
            " 39  dunksmade            1236 non-null   float64\n",
            " 40  dunksmiss_dunksmade  1236 non-null   float64\n",
            " 41  dunks_ratio          559 non-null    float64\n",
            " 42  drtg                 1297 non-null   float64\n",
            " 43  adrtg                1297 non-null   float64\n",
            " 44  dporpag              1297 non-null   float64\n",
            " 45  stops                1297 non-null   float64\n",
            " 46  bpm                  1297 non-null   float64\n",
            " 47  obpm                 1297 non-null   float64\n",
            " 48  dbpm                 1297 non-null   float64\n",
            " 49  gbpm                 1297 non-null   float64\n",
            " 50  mp                   1297 non-null   float64\n",
            " 51  ogbpm                1297 non-null   float64\n",
            " 52  dgbpm                1297 non-null   float64\n",
            " 53  oreb                 1297 non-null   float64\n",
            " 54  dreb                 1297 non-null   float64\n",
            " 55  treb                 1297 non-null   float64\n",
            " 56  ast                  1297 non-null   float64\n",
            " 57  stl                  1297 non-null   float64\n",
            " 58  blk                  1297 non-null   float64\n",
            " 59  pts                  1297 non-null   float64\n",
            " 60  player_id            1297 non-null   object \n",
            "dtypes: float64(47), int64(8), object(6)\n",
            "memory usage: 618.2+ KB\n"
          ]
        }
      ],
      "source": [
        "# Viewing the info of test data\n",
        "test_df.info()"
      ]
    },
    {
      "cell_type": "markdown",
      "metadata": {
        "id": "oB5b8LiTHi1Z"
      },
      "source": [
        "### C.2 Define Target variable"
      ]
    },
    {
      "cell_type": "code",
      "execution_count": 89,
      "metadata": {
        "id": "sRTb7PRiHi1Z"
      },
      "outputs": [],
      "source": [
        "# <Student to fill this section>\n",
        "target_definition_explanations = \"\"\"\n",
        "The target variable 'drafted' indicates whether a player was selected in the NBA draft. This binary definition aligns with the business goal of predicting draft success based on performance metrics, helping scouts and analysts identify high-potential players and optimize recruitment strategies.\n",
        "\"\"\""
      ]
    },
    {
      "cell_type": "code",
      "execution_count": 90,
      "metadata": {
        "colab": {
          "base_uri": "https://localhost:8080/",
          "height": 101
        },
        "id": "Qah5-wR1Hi1Z",
        "outputId": "863cb710-c0d5-4771-b25e-16035bafc9e9"
      },
      "outputs": [
        {
          "output_type": "display_data",
          "data": {
            "text/plain": [
              "<IPython.core.display.HTML object>"
            ],
            "text/html": [
              "<p style=\"color:grey\">target_definition_explanations</p><h3 font-size: 3em>\n",
              "The target variable 'drafted' indicates whether a player was selected in the NBA draft. This binary definition aligns with the business goal of predicting draft success based on performance metrics, helping scouts and analysts identify high-potential players and optimize recruitment strategies.\n",
              "</h3>"
            ]
          },
          "metadata": {}
        }
      ],
      "source": [
        "# Do not modify this code\n",
        "print_tile(size=\"h3\", key='target_definition_explanations', value=target_definition_explanations)"
      ]
    },
    {
      "cell_type": "markdown",
      "metadata": {
        "id": "JZwqbdeIHi1Z"
      },
      "source": [
        "### C.3 Create Target variable"
      ]
    },
    {
      "cell_type": "code",
      "execution_count": 91,
      "metadata": {
        "id": "P2awkKPWHi1Z"
      },
      "outputs": [],
      "source": [
        "# <Student to fill this section>\n",
        "\n",
        "target_name = 'drafted'"
      ]
    },
    {
      "cell_type": "markdown",
      "metadata": {
        "id": "wzlWGoGhHi1a"
      },
      "source": [
        "### C.4 Explore Target variable"
      ]
    },
    {
      "cell_type": "code",
      "execution_count": 92,
      "metadata": {
        "colab": {
          "base_uri": "https://localhost:8080/",
          "height": 178
        },
        "id": "Sb82Tof3Hi1a",
        "outputId": "2318bcf1-f2eb-41ed-9f88-f6cb5f71f870"
      },
      "outputs": [
        {
          "output_type": "execute_result",
          "data": {
            "text/plain": [
              "drafted\n",
              "0.0    14656\n",
              "1.0      118\n",
              "Name: count, dtype: int64"
            ],
            "text/html": [
              "<div>\n",
              "<style scoped>\n",
              "    .dataframe tbody tr th:only-of-type {\n",
              "        vertical-align: middle;\n",
              "    }\n",
              "\n",
              "    .dataframe tbody tr th {\n",
              "        vertical-align: top;\n",
              "    }\n",
              "\n",
              "    .dataframe thead th {\n",
              "        text-align: right;\n",
              "    }\n",
              "</style>\n",
              "<table border=\"1\" class=\"dataframe\">\n",
              "  <thead>\n",
              "    <tr style=\"text-align: right;\">\n",
              "      <th></th>\n",
              "      <th>count</th>\n",
              "    </tr>\n",
              "    <tr>\n",
              "      <th>drafted</th>\n",
              "      <th></th>\n",
              "    </tr>\n",
              "  </thead>\n",
              "  <tbody>\n",
              "    <tr>\n",
              "      <th>0.0</th>\n",
              "      <td>14656</td>\n",
              "    </tr>\n",
              "    <tr>\n",
              "      <th>1.0</th>\n",
              "      <td>118</td>\n",
              "    </tr>\n",
              "  </tbody>\n",
              "</table>\n",
              "</div><br><label><b>dtype:</b> int64</label>"
            ]
          },
          "metadata": {},
          "execution_count": 92
        }
      ],
      "source": [
        "# Viewing the balance of the data\n",
        "train_df['drafted'].value_counts()"
      ]
    },
    {
      "cell_type": "code",
      "execution_count": 93,
      "metadata": {
        "colab": {
          "base_uri": "https://localhost:8080/",
          "height": 178
        },
        "id": "Rifyp977Hi1a",
        "outputId": "a03fe308-bd7d-4f86-ccee-8cd693e73c97"
      },
      "outputs": [
        {
          "output_type": "execute_result",
          "data": {
            "text/plain": [
              "drafted\n",
              "0.0    99.2013\n",
              "1.0     0.7987\n",
              "Name: proportion, dtype: float64"
            ],
            "text/html": [
              "<div>\n",
              "<style scoped>\n",
              "    .dataframe tbody tr th:only-of-type {\n",
              "        vertical-align: middle;\n",
              "    }\n",
              "\n",
              "    .dataframe tbody tr th {\n",
              "        vertical-align: top;\n",
              "    }\n",
              "\n",
              "    .dataframe thead th {\n",
              "        text-align: right;\n",
              "    }\n",
              "</style>\n",
              "<table border=\"1\" class=\"dataframe\">\n",
              "  <thead>\n",
              "    <tr style=\"text-align: right;\">\n",
              "      <th></th>\n",
              "      <th>proportion</th>\n",
              "    </tr>\n",
              "    <tr>\n",
              "      <th>drafted</th>\n",
              "      <th></th>\n",
              "    </tr>\n",
              "  </thead>\n",
              "  <tbody>\n",
              "    <tr>\n",
              "      <th>0.0</th>\n",
              "      <td>99.2013</td>\n",
              "    </tr>\n",
              "    <tr>\n",
              "      <th>1.0</th>\n",
              "      <td>0.7987</td>\n",
              "    </tr>\n",
              "  </tbody>\n",
              "</table>\n",
              "</div><br><label><b>dtype:</b> float64</label>"
            ]
          },
          "metadata": {},
          "execution_count": 93
        }
      ],
      "source": [
        "# Viewing the distribution in percentage\n",
        "train_df['drafted'].value_counts(normalize=True) * 100"
      ]
    },
    {
      "cell_type": "code",
      "execution_count": 94,
      "metadata": {
        "id": "5dOTeR3qHi1a"
      },
      "outputs": [],
      "source": [
        "# <Student to fill this section>\n",
        "target_distribution_explanations = \"\"\"\n",
        "The target variable 'drafted' is highly imbalanced, with ~99.2% not drafted and ~0.8% drafted. This imbalance may bias models toward the majority class and affect performance metrics like accuracy.\n",
        "\"\"\""
      ]
    },
    {
      "cell_type": "code",
      "execution_count": 95,
      "metadata": {
        "colab": {
          "base_uri": "https://localhost:8080/",
          "height": 101
        },
        "id": "2MAZK7Z5Hi1a",
        "outputId": "0f6f0a1c-adfd-4fd1-94b7-6238a43f8a42"
      },
      "outputs": [
        {
          "output_type": "display_data",
          "data": {
            "text/plain": [
              "<IPython.core.display.HTML object>"
            ],
            "text/html": [
              "<p style=\"color:grey\">target_distribution_explanations</p><h3 font-size: 3em>\n",
              "The target variable 'drafted' is highly imbalanced, with ~99.2% not drafted and ~0.8% drafted. This imbalance may bias models toward the majority class and affect performance metrics like accuracy.\n",
              "</h3>"
            ]
          },
          "metadata": {}
        }
      ],
      "source": [
        "# Do not modify this code\n",
        "print_tile(size=\"h3\", key='target_distribution_explanations', value=target_distribution_explanations)"
      ]
    },
    {
      "cell_type": "markdown",
      "metadata": {
        "id": "NvYqX132Hi1a"
      },
      "source": [
        "### C.5 Explore Feature of Interest `\\<player_id\\>`"
      ]
    },
    {
      "cell_type": "code",
      "execution_count": 96,
      "metadata": {
        "colab": {
          "base_uri": "https://localhost:8080/"
        },
        "id": "kfj4WHRdHi1a",
        "outputId": "8b3363c3-f1e6-48f6-8557-bc7fe567a6a8"
      },
      "outputs": [
        {
          "output_type": "execute_result",
          "data": {
            "text/plain": [
              "12155"
            ]
          },
          "metadata": {},
          "execution_count": 96
        }
      ],
      "source": [
        "# Unique player_ids in test data\n",
        "train_df['player_id'].nunique()"
      ]
    },
    {
      "cell_type": "code",
      "execution_count": 97,
      "metadata": {
        "colab": {
          "base_uri": "https://localhost:8080/"
        },
        "id": "_NNHx1FRHi1a",
        "outputId": "52799220-b9e6-4117-b012-daf1d714a577"
      },
      "outputs": [
        {
          "output_type": "execute_result",
          "data": {
            "text/plain": [
              "1297"
            ]
          },
          "metadata": {},
          "execution_count": 97
        }
      ],
      "source": [
        "# Unique player_ids in test data\n",
        "test_df['player_id'].nunique()"
      ]
    },
    {
      "cell_type": "code",
      "execution_count": 98,
      "metadata": {
        "id": "M-gqlD-aHi1a"
      },
      "outputs": [],
      "source": [
        "# <Student to fill this section>\n",
        "feature_1_insights = \"\"\"\n",
        "player_id must be unique to avoid inconsistent or conflicting data. If used as a feature, it can cause data leakage by allowing the model to memorize rather than learn patterns. Duplicate IDs may lead to errors in prediction and evaluation. It should be excluded from model training and used only to identify predictions in the final submission\n",
        "\n",
        "There are duplicates in player_id — meaning some players appear more than once in your training data. Need to be removed in the duplicates row section (cleaning)\n",
        "\"\"\""
      ]
    },
    {
      "cell_type": "code",
      "execution_count": 99,
      "metadata": {
        "colab": {
          "base_uri": "https://localhost:8080/",
          "height": 122
        },
        "id": "GHBQFrtJHi1e",
        "outputId": "74855b66-08e6-4531-f094-eba798a667bf"
      },
      "outputs": [
        {
          "output_type": "display_data",
          "data": {
            "text/plain": [
              "<IPython.core.display.HTML object>"
            ],
            "text/html": [
              "<p style=\"color:grey\">feature_1_insights</p><h3 font-size: 3em>\n",
              "player_id must be unique to avoid inconsistent or conflicting data. If used as a feature, it can cause data leakage by allowing the model to memorize rather than learn patterns. Duplicate IDs may lead to errors in prediction and evaluation. It should be excluded from model training and used only to identify predictions in the final submission\n",
              "\n",
              "There are duplicates in player_id — meaning some players appear more than once in your training data. Need to be removed in the duplicates row section (cleaning)\n",
              "</h3>"
            ]
          },
          "metadata": {}
        }
      ],
      "source": [
        "# Do not modify this code\n",
        "print_tile(size=\"h3\", key='feature_1_insights', value=feature_1_insights)"
      ]
    },
    {
      "cell_type": "markdown",
      "metadata": {
        "id": "1tx-AWMpHi1e"
      },
      "source": [
        "---\n",
        "## D. Feature Selection\n"
      ]
    },
    {
      "cell_type": "markdown",
      "metadata": {
        "id": "WgWsl0RoHi1e"
      },
      "source": [
        "**Features will be selected after data preparation.**"
      ]
    },
    {
      "cell_type": "markdown",
      "metadata": {
        "id": "FRe2k3JyHi1e"
      },
      "source": [
        "---\n",
        "## E. Data Preparation"
      ]
    },
    {
      "cell_type": "markdown",
      "metadata": {
        "id": "D0Sr16qVHi1e"
      },
      "source": [
        "### E.1 Data Transformation <remove_duplicates>"
      ]
    },
    {
      "cell_type": "code",
      "execution_count": 100,
      "metadata": {
        "colab": {
          "base_uri": "https://localhost:8080/"
        },
        "id": "N7Q9gDHeHi1e",
        "outputId": "51d00405-fa32-4278-89cd-e36155f3445b"
      },
      "outputs": [
        {
          "output_type": "execute_result",
          "data": {
            "text/plain": [
              "np.int64(2462)"
            ]
          },
          "metadata": {},
          "execution_count": 100
        }
      ],
      "source": [
        "# Number of duplicate values\n",
        "train_df.duplicated().sum()"
      ]
    },
    {
      "cell_type": "code",
      "execution_count": 101,
      "metadata": {
        "id": "MdWYFV0eHi1e"
      },
      "outputs": [],
      "source": [
        "# Saving a copy of original data\n",
        "train_df_copy = train_df.copy()"
      ]
    },
    {
      "cell_type": "code",
      "execution_count": 102,
      "metadata": {
        "id": "WCKc9GYAHi1e"
      },
      "outputs": [],
      "source": [
        "# Dropping the duplicates\n",
        "train_df_cleaned = train_df.drop_duplicates()"
      ]
    },
    {
      "cell_type": "code",
      "execution_count": 103,
      "metadata": {
        "id": "gDor7tgjHi1f"
      },
      "outputs": [],
      "source": [
        "# <Student to fill this section>\n",
        "data_cleaning_1_explanations = \"\"\"\n",
        "Removing duplicate player records ensures the model does not learn biased patterns from repeated data. In the context of draft prediction, duplicates can overrepresent certain players, skewing feature importance and reducing the models ability to generalize across new, unseen players.\n",
        "\"\"\""
      ]
    },
    {
      "cell_type": "code",
      "execution_count": 104,
      "metadata": {
        "colab": {
          "base_uri": "https://localhost:8080/",
          "height": 101
        },
        "id": "if2cxr7aHi1f",
        "outputId": "23d827d7-2c4b-4fad-9c05-c7cf0878c541"
      },
      "outputs": [
        {
          "output_type": "display_data",
          "data": {
            "text/plain": [
              "<IPython.core.display.HTML object>"
            ],
            "text/html": [
              "<p style=\"color:grey\">data_cleaning_1_explanations</p><h3 font-size: 3em>\n",
              "Removing duplicate player records ensures the model does not learn biased patterns from repeated data. In the context of draft prediction, duplicates can overrepresent certain players, skewing feature importance and reducing the models ability to generalize across new, unseen players.\n",
              "</h3>"
            ]
          },
          "metadata": {}
        }
      ],
      "source": [
        "# Do not modify this code\n",
        "print_tile(size=\"h3\", key='data_cleaning_1_explanations', value=data_cleaning_1_explanations)"
      ]
    },
    {
      "cell_type": "markdown",
      "metadata": {
        "id": "w6JaDeRTHi1f"
      },
      "source": [
        "### E.2 Data Transformation <features_high_missing_values>"
      ]
    },
    {
      "cell_type": "code",
      "execution_count": 105,
      "metadata": {
        "colab": {
          "base_uri": "https://localhost:8080/",
          "height": 1000
        },
        "id": "W-PiLrSnHi1f",
        "outputId": "06d902eb-bb98-409c-b7d3-553414e8c22a"
      },
      "outputs": [
        {
          "output_type": "execute_result",
          "data": {
            "text/plain": [
              "Rec_Rank               8240\n",
              "dunks_ratio            7831\n",
              "rim_ratio              2672\n",
              "mid_ratio              2665\n",
              "midmade                1720\n",
              "rimmade                1720\n",
              "dunksmade              1720\n",
              "dunksmiss_dunksmade    1720\n",
              "rimmade_rimmiss        1720\n",
              "midmade_midmiss        1720\n",
              "ast_tov                1284\n",
              "ht                        7\n",
              "drtg                      4\n",
              "adrtg                     4\n",
              "dporpag                   4\n",
              "stops                     4\n",
              "bpm                       4\n",
              "obpm                      4\n",
              "dbpm                      4\n",
              "gbpm                      4\n",
              "ogbpm                     4\n",
              "dgbpm                     4\n",
              "mp                        1\n",
              "oreb                      1\n",
              "dreb                      1\n",
              "treb                      1\n",
              "ast                       1\n",
              "stl                       1\n",
              "blk                       1\n",
              "pts                       1\n",
              "dtype: int64"
            ],
            "text/html": [
              "<div>\n",
              "<style scoped>\n",
              "    .dataframe tbody tr th:only-of-type {\n",
              "        vertical-align: middle;\n",
              "    }\n",
              "\n",
              "    .dataframe tbody tr th {\n",
              "        vertical-align: top;\n",
              "    }\n",
              "\n",
              "    .dataframe thead th {\n",
              "        text-align: right;\n",
              "    }\n",
              "</style>\n",
              "<table border=\"1\" class=\"dataframe\">\n",
              "  <thead>\n",
              "    <tr style=\"text-align: right;\">\n",
              "      <th></th>\n",
              "      <th>0</th>\n",
              "    </tr>\n",
              "  </thead>\n",
              "  <tbody>\n",
              "    <tr>\n",
              "      <th>Rec_Rank</th>\n",
              "      <td>8240</td>\n",
              "    </tr>\n",
              "    <tr>\n",
              "      <th>dunks_ratio</th>\n",
              "      <td>7831</td>\n",
              "    </tr>\n",
              "    <tr>\n",
              "      <th>rim_ratio</th>\n",
              "      <td>2672</td>\n",
              "    </tr>\n",
              "    <tr>\n",
              "      <th>mid_ratio</th>\n",
              "      <td>2665</td>\n",
              "    </tr>\n",
              "    <tr>\n",
              "      <th>midmade</th>\n",
              "      <td>1720</td>\n",
              "    </tr>\n",
              "    <tr>\n",
              "      <th>rimmade</th>\n",
              "      <td>1720</td>\n",
              "    </tr>\n",
              "    <tr>\n",
              "      <th>dunksmade</th>\n",
              "      <td>1720</td>\n",
              "    </tr>\n",
              "    <tr>\n",
              "      <th>dunksmiss_dunksmade</th>\n",
              "      <td>1720</td>\n",
              "    </tr>\n",
              "    <tr>\n",
              "      <th>rimmade_rimmiss</th>\n",
              "      <td>1720</td>\n",
              "    </tr>\n",
              "    <tr>\n",
              "      <th>midmade_midmiss</th>\n",
              "      <td>1720</td>\n",
              "    </tr>\n",
              "    <tr>\n",
              "      <th>ast_tov</th>\n",
              "      <td>1284</td>\n",
              "    </tr>\n",
              "    <tr>\n",
              "      <th>ht</th>\n",
              "      <td>7</td>\n",
              "    </tr>\n",
              "    <tr>\n",
              "      <th>drtg</th>\n",
              "      <td>4</td>\n",
              "    </tr>\n",
              "    <tr>\n",
              "      <th>adrtg</th>\n",
              "      <td>4</td>\n",
              "    </tr>\n",
              "    <tr>\n",
              "      <th>dporpag</th>\n",
              "      <td>4</td>\n",
              "    </tr>\n",
              "    <tr>\n",
              "      <th>stops</th>\n",
              "      <td>4</td>\n",
              "    </tr>\n",
              "    <tr>\n",
              "      <th>bpm</th>\n",
              "      <td>4</td>\n",
              "    </tr>\n",
              "    <tr>\n",
              "      <th>obpm</th>\n",
              "      <td>4</td>\n",
              "    </tr>\n",
              "    <tr>\n",
              "      <th>dbpm</th>\n",
              "      <td>4</td>\n",
              "    </tr>\n",
              "    <tr>\n",
              "      <th>gbpm</th>\n",
              "      <td>4</td>\n",
              "    </tr>\n",
              "    <tr>\n",
              "      <th>ogbpm</th>\n",
              "      <td>4</td>\n",
              "    </tr>\n",
              "    <tr>\n",
              "      <th>dgbpm</th>\n",
              "      <td>4</td>\n",
              "    </tr>\n",
              "    <tr>\n",
              "      <th>mp</th>\n",
              "      <td>1</td>\n",
              "    </tr>\n",
              "    <tr>\n",
              "      <th>oreb</th>\n",
              "      <td>1</td>\n",
              "    </tr>\n",
              "    <tr>\n",
              "      <th>dreb</th>\n",
              "      <td>1</td>\n",
              "    </tr>\n",
              "    <tr>\n",
              "      <th>treb</th>\n",
              "      <td>1</td>\n",
              "    </tr>\n",
              "    <tr>\n",
              "      <th>ast</th>\n",
              "      <td>1</td>\n",
              "    </tr>\n",
              "    <tr>\n",
              "      <th>stl</th>\n",
              "      <td>1</td>\n",
              "    </tr>\n",
              "    <tr>\n",
              "      <th>blk</th>\n",
              "      <td>1</td>\n",
              "    </tr>\n",
              "    <tr>\n",
              "      <th>pts</th>\n",
              "      <td>1</td>\n",
              "    </tr>\n",
              "  </tbody>\n",
              "</table>\n",
              "</div><br><label><b>dtype:</b> int64</label>"
            ]
          },
          "metadata": {},
          "execution_count": 105
        }
      ],
      "source": [
        "# Checking for missing values\n",
        "missing_values = train_df_cleaned.isna().sum()\n",
        "missing_values[missing_values > 0].sort_values(ascending=False)"
      ]
    },
    {
      "cell_type": "markdown",
      "metadata": {
        "id": "Bq2xRNp1Hi1f"
      },
      "source": [
        "Drop Rec_Rank and dunks_ratio due to high missing values"
      ]
    },
    {
      "cell_type": "code",
      "execution_count": 106,
      "metadata": {
        "colab": {
          "base_uri": "https://localhost:8080/"
        },
        "id": "mrL_KBnkHi1f",
        "outputId": "89125ba4-8e08-461e-9c43-e9da4a4b1e21"
      },
      "outputs": [
        {
          "output_type": "execute_result",
          "data": {
            "text/plain": [
              "(12312, 60)"
            ]
          },
          "metadata": {},
          "execution_count": 106
        }
      ],
      "source": [
        "# Dropping features\n",
        "train_df_cleaned = train_df_cleaned.drop(columns=['Rec_Rank', 'dunks_ratio'])\n",
        "train_df_cleaned.shape"
      ]
    },
    {
      "cell_type": "code",
      "execution_count": 107,
      "metadata": {
        "id": "21YRyT4tHi1f"
      },
      "outputs": [],
      "source": [
        "# <Student to fill this section>\n",
        "data_cleaning_2_explanations = \"\"\"\n",
        "Dropping Rec_Rank and dunks_ratio is a good choice due to their high missing rates and low predictive value. The remaining features are performance-based and worth keeping. Removing all rows with missing values after dropping those two columns ensures a clean dataset. We will retain enough data (maybe 8 or 10K rows) for effective model training. This approach balances data quality and feature importance.\n",
        "\"\"\""
      ]
    },
    {
      "cell_type": "code",
      "execution_count": 108,
      "metadata": {
        "colab": {
          "base_uri": "https://localhost:8080/",
          "height": 122
        },
        "id": "oMzvMWIKHi1f",
        "outputId": "924bdb6f-473e-41ae-f22c-57ca2a34bbbc"
      },
      "outputs": [
        {
          "output_type": "display_data",
          "data": {
            "text/plain": [
              "<IPython.core.display.HTML object>"
            ],
            "text/html": [
              "<p style=\"color:grey\">data_cleaning_2_explanations</p><h3 font-size: 3em>\n",
              "Dropping Rec_Rank and dunks_ratio is a good choice due to their high missing rates and low predictive value. The remaining features are performance-based and worth keeping. Removing all rows with missing values after dropping those two columns ensures a clean dataset. We will retain enough data (maybe 8 or 10K rows) for effective model training. This approach balances data quality and feature importance.\n",
              "</h3>"
            ]
          },
          "metadata": {}
        }
      ],
      "source": [
        "# Do not modify this code\n",
        "print_tile(size=\"h3\", key='data_cleaning_2_explanations', value=data_cleaning_2_explanations)"
      ]
    },
    {
      "cell_type": "markdown",
      "metadata": {
        "id": "MiBlTPbjHi1f"
      },
      "source": [
        "### E.3 Data Transformation <missing_values>"
      ]
    },
    {
      "cell_type": "code",
      "execution_count": 109,
      "metadata": {
        "colab": {
          "base_uri": "https://localhost:8080/"
        },
        "id": "exXpRCKTHi1f",
        "outputId": "ca44b80a-fa58-4d20-d383-53c3a3d29d51"
      },
      "outputs": [
        {
          "output_type": "execute_result",
          "data": {
            "text/plain": [
              "np.int64(16996)"
            ]
          },
          "metadata": {},
          "execution_count": 109
        }
      ],
      "source": [
        "# Viewing total missing values\n",
        "train_df_cleaned.isna().sum().sum()"
      ]
    },
    {
      "cell_type": "code",
      "execution_count": 110,
      "metadata": {
        "colab": {
          "base_uri": "https://localhost:8080/"
        },
        "id": "N8GnpKjCHi1f",
        "outputId": "6d928a7b-9d5b-41b2-d9c2-f2f828a29d8e"
      },
      "outputs": [
        {
          "output_type": "execute_result",
          "data": {
            "text/plain": [
              "(8910, 60)"
            ]
          },
          "metadata": {},
          "execution_count": 110
        }
      ],
      "source": [
        "# Dropping rows with missing values\n",
        "train_df_cleaned = train_df_cleaned.dropna()\n",
        "train_df_cleaned.shape"
      ]
    },
    {
      "cell_type": "code",
      "execution_count": 111,
      "metadata": {
        "id": "NGr1CcA7Hi1f"
      },
      "outputs": [],
      "source": [
        "# <Student to fill this section>\n",
        "data_cleaning_3_explanations = \"\"\"\n",
        "there are no missing values left in df_train_clean.\n",
        "now we have a clean dataset with 8910 complete rows and 60 features — ready for modeling\n",
        "\n",
        "irrelevant_features = team conf year type player_id yr ht. ht is not what metadata says (heigth of student)\n",
        "\"\"\""
      ]
    },
    {
      "cell_type": "code",
      "execution_count": 112,
      "metadata": {
        "colab": {
          "base_uri": "https://localhost:8080/",
          "height": 101
        },
        "id": "ote3hVBjHi1f",
        "outputId": "2efe85f8-f881-4b7d-e125-5773fb31f963"
      },
      "outputs": [
        {
          "output_type": "display_data",
          "data": {
            "text/plain": [
              "<IPython.core.display.HTML object>"
            ],
            "text/html": [
              "<p style=\"color:grey\">data_cleaning_3_explanations</p><h3 font-size: 3em>\n",
              "there are no missing values left in df_train_clean.\n",
              "now we have a clean dataset with 8910 complete rows and 60 features — ready for modeling\n",
              "\n",
              "irrelevant_features = team conf year type player_id yr ht. ht is not what metadata says (heigth of student)\n",
              "</h3>"
            ]
          },
          "metadata": {}
        }
      ],
      "source": [
        "# Do not modify this code\n",
        "print_tile(size=\"h3\", key='data_cleaning_3_explanations', value=data_cleaning_3_explanations)"
      ]
    },
    {
      "cell_type": "markdown",
      "metadata": {
        "id": "1olCyF3AHi1g"
      },
      "source": [
        "### E.n Fixing \"\\<irrelevant_features\\>\"\n",
        "\n",
        "> You can add more cells related to other issues in this section"
      ]
    },
    {
      "cell_type": "code",
      "execution_count": 113,
      "metadata": {
        "id": "ftsYPqRpHi1g"
      },
      "outputs": [],
      "source": [
        "# Define the list of irrelevant features\n",
        "irrelevant_features = ['team', 'conf', 'year', 'type', 'player_id','yr','ht']\n",
        "\n",
        "# Drop them from the dataset\n",
        "train_df_cleaned = train_df_cleaned.drop(columns=irrelevant_features)"
      ]
    },
    {
      "cell_type": "markdown",
      "metadata": {
        "id": "kIeyR2WzHi1g"
      },
      "source": [
        "---\n",
        "## F. Feature Engineering"
      ]
    },
    {
      "cell_type": "markdown",
      "metadata": {
        "id": "IyPklcWCHi1g"
      },
      "source": [
        "**Features are good and doesn't require any engineering.**"
      ]
    },
    {
      "cell_type": "code",
      "execution_count": 114,
      "metadata": {
        "id": "LMBErQ3XHi1g"
      },
      "outputs": [],
      "source": [
        "# Copying the dataset\n",
        "train_df_engineered = train_df_cleaned.copy()"
      ]
    },
    {
      "cell_type": "markdown",
      "metadata": {
        "id": "H3K7ER8lHi1g"
      },
      "source": [
        "---\n",
        "## G. Data Preparation for Modeling"
      ]
    },
    {
      "cell_type": "markdown",
      "metadata": {
        "id": "suPCirXcHi1g"
      },
      "source": [
        "### G.1 Split Datasets"
      ]
    },
    {
      "cell_type": "code",
      "execution_count": 115,
      "metadata": {
        "id": "3YlBwuf6Hi1g"
      },
      "outputs": [],
      "source": [
        "# Splitting features and target\n",
        "X = train_df_engineered.drop(columns='drafted')\n",
        "y = train_df_engineered['drafted']"
      ]
    },
    {
      "cell_type": "code",
      "execution_count": 116,
      "metadata": {
        "id": "GoyK_4yIHi1g"
      },
      "outputs": [],
      "source": [
        "# Split into train and validation sets\n",
        "X_train, X_val, y_train, y_val = train_test_split(\n",
        "    X,       # original features\n",
        "    y,       # original target column\n",
        "    test_size=0.2, # 20% for validation\n",
        "    stratify=y,  # keep class balance\n",
        "    random_state=8    # for reproducibility widely used convention.\n",
        ")"
      ]
    },
    {
      "cell_type": "code",
      "execution_count": 117,
      "metadata": {
        "id": "N-u9xIr4Hi1g"
      },
      "outputs": [],
      "source": [
        "# List of features that were removed from training data\n",
        "features_to_be_dropped = ['Rec_Rank','dunks_ratio','team', 'conf', 'year', 'type', 'yr', 'ht']\n",
        "\n",
        "# Dropping them from test data\n",
        "test_df = test_df.drop(columns=features_to_be_dropped, errors='ignore')"
      ]
    },
    {
      "cell_type": "code",
      "execution_count": 118,
      "metadata": {
        "colab": {
          "base_uri": "https://localhost:8080/"
        },
        "id": "L5SBfWztHi1g",
        "outputId": "85bc31a1-31da-4fce-dca7-581966a4afe3"
      },
      "outputs": [
        {
          "output_type": "execute_result",
          "data": {
            "text/plain": [
              "(1297, 53)"
            ]
          },
          "metadata": {},
          "execution_count": 118
        }
      ],
      "source": [
        "# Viewing the test data shape after dropping\n",
        "test_df.shape"
      ]
    },
    {
      "cell_type": "code",
      "execution_count": 119,
      "metadata": {
        "colab": {
          "base_uri": "https://localhost:8080/"
        },
        "id": "jcytXpKWHi1g",
        "outputId": "432a8615-7263-45f6-9291-deb3454ac9cb"
      },
      "outputs": [
        {
          "output_type": "execute_result",
          "data": {
            "text/plain": [
              "(8910, 53)"
            ]
          },
          "metadata": {},
          "execution_count": 119
        }
      ],
      "source": [
        "# Viewing training data shape for confirmation of columns\n",
        "train_df_engineered.shape"
      ]
    },
    {
      "cell_type": "code",
      "execution_count": 120,
      "metadata": {
        "colab": {
          "base_uri": "https://localhost:8080/"
        },
        "id": "zzEVJh1_Hi1g",
        "outputId": "a69c45a8-a165-484e-f1f4-46e5bf67143f"
      },
      "outputs": [
        {
          "output_type": "stream",
          "name": "stdout",
          "text": [
            "Missing values in df_test:\n",
            "ast_tov                125\n",
            "rimmade                 61\n",
            "rimmade_rimmiss         61\n",
            "midmade                 61\n",
            "midmade_midmiss         61\n",
            "rim_ratio              178\n",
            "mid_ratio              196\n",
            "dunksmade               61\n",
            "dunksmiss_dunksmade     61\n",
            "dtype: int64\n"
          ]
        }
      ],
      "source": [
        "# Total missing values per column\n",
        "missing_values = test_df.isnull().sum()\n",
        "\n",
        "# Display only columns with missing values\n",
        "missing_values = missing_values[missing_values > 0]\n",
        "\n",
        "# Print summary\n",
        "print(\"Missing values in df_test:\")\n",
        "print(missing_values)"
      ]
    },
    {
      "cell_type": "code",
      "execution_count": 121,
      "metadata": {
        "id": "7NAXtQwDHi1g"
      },
      "outputs": [],
      "source": [
        "# Replacing null values with 0\n",
        "test_df.fillna(0, inplace=True)"
      ]
    },
    {
      "cell_type": "code",
      "execution_count": 122,
      "metadata": {
        "id": "5AQE1wSQHi1h"
      },
      "outputs": [],
      "source": [
        "# Copy of test data\n",
        "test_df_cleaned = test_df.copy()"
      ]
    },
    {
      "cell_type": "code",
      "execution_count": 123,
      "metadata": {
        "colab": {
          "base_uri": "https://localhost:8080/"
        },
        "id": "dVfephVKHi1h",
        "outputId": "1950b6fa-0d61-4205-aaa7-44a92c09cf7d"
      },
      "outputs": [
        {
          "output_type": "execute_result",
          "data": {
            "text/plain": [
              "1297"
            ]
          },
          "metadata": {},
          "execution_count": 123
        }
      ],
      "source": [
        "# Saving the feature 'player_id' to use in the final submission\n",
        "player_ids = test_df_cleaned['player_id']\n",
        "len(player_ids)"
      ]
    },
    {
      "cell_type": "code",
      "execution_count": 124,
      "metadata": {
        "id": "ARRQSLx6Hi1h"
      },
      "outputs": [],
      "source": [
        "# Dropping player_id to get the test features\n",
        "X_test = test_df_cleaned.drop(columns='player_id')"
      ]
    },
    {
      "cell_type": "code",
      "execution_count": 125,
      "metadata": {
        "colab": {
          "base_uri": "https://localhost:8080/"
        },
        "id": "fSiVl4-8Hi1h",
        "outputId": "2f67dbd9-db34-406c-9cf5-54c4556d498d"
      },
      "outputs": [
        {
          "output_type": "execute_result",
          "data": {
            "text/plain": [
              "(7128, 52)"
            ]
          },
          "metadata": {},
          "execution_count": 125
        }
      ],
      "source": [
        "# Viewing the training data's shape\n",
        "X_train.shape"
      ]
    },
    {
      "cell_type": "code",
      "execution_count": 126,
      "metadata": {
        "colab": {
          "base_uri": "https://localhost:8080/"
        },
        "id": "xuBNNNvqHi1h",
        "outputId": "1c8b75b3-914d-4a12-f4dc-574ad1ecaad2"
      },
      "outputs": [
        {
          "output_type": "execute_result",
          "data": {
            "text/plain": [
              "(1782, 52)"
            ]
          },
          "metadata": {},
          "execution_count": 126
        }
      ],
      "source": [
        "# Viewing the validation data's shape\n",
        "X_val.shape"
      ]
    },
    {
      "cell_type": "code",
      "execution_count": 127,
      "metadata": {
        "colab": {
          "base_uri": "https://localhost:8080/"
        },
        "id": "Wf-ZWwqkHi1h",
        "outputId": "991d4941-5a5b-4db1-aac4-da1f67434451"
      },
      "outputs": [
        {
          "output_type": "execute_result",
          "data": {
            "text/plain": [
              "(1297, 52)"
            ]
          },
          "metadata": {},
          "execution_count": 127
        }
      ],
      "source": [
        "# Viewing the test data's shape\n",
        "X_test.shape"
      ]
    },
    {
      "cell_type": "markdown",
      "metadata": {
        "id": "XjL5I-8NHi1h"
      },
      "source": [
        "---\n",
        "## H. Save Datasets\n",
        "\n",
        "> Do not change this code"
      ]
    },
    {
      "cell_type": "code",
      "execution_count": 128,
      "metadata": {
        "id": "vhHV7SW2Hi1h",
        "colab": {
          "base_uri": "https://localhost:8080/"
        },
        "outputId": "3228c900-77ca-4966-c4d6-626c7bb06cdf"
      },
      "outputs": [
        {
          "output_type": "stream",
          "name": "stdout",
          "text": [
            "Cannot save file into a non-existent directory: 'data/processed'\n"
          ]
        }
      ],
      "source": [
        "# Do not modify this code\n",
        "# Save training set\n",
        "try:\n",
        "  X_train.to_csv('data/processed/X_train.csv', index=False)\n",
        "  y_train.to_csv('data/processed/y_train.csv', index=False)\n",
        "\n",
        "  X_val.to_csv('data/processed/X_val.csv', index=False)\n",
        "  y_val.to_csv('data/processed/y_val.csv', index=False)\n",
        "\n",
        "  X_test.to_csv('data/processed/X_test.csv', index=False)\n",
        "  #y_test.to_csv(at.folder_path / 'y_test.csv', index=False)\n",
        "except Exception as e:\n",
        "  print(e)"
      ]
    },
    {
      "cell_type": "markdown",
      "metadata": {
        "id": "w5V0WUkCHi1h"
      },
      "source": [
        "---\n",
        "## I. Selection of Performance Metrics\n",
        "\n",
        "> Provide some explanations on why you believe the performance metrics you chose is appropriate\n"
      ]
    },
    {
      "cell_type": "markdown",
      "metadata": {
        "id": "UpOMJGQtHi1h"
      },
      "source": [
        "**AUROC is the performance metric.**"
      ]
    },
    {
      "cell_type": "markdown",
      "metadata": {
        "id": "1qEqnF72Hi1h"
      },
      "source": [
        "---\n"
      ]
    },
    {
      "cell_type": "markdown",
      "metadata": {
        "id": "U9uKThSYHi1h"
      },
      "source": [
        "## J. Train Machine Learning Model"
      ]
    },
    {
      "cell_type": "markdown",
      "metadata": {
        "id": "juWaklM9Hi1h"
      },
      "source": [
        "### J.1 Import Algorithm\n",
        "\n",
        "> Provide some explanations on why you believe this algorithm is a good fit\n"
      ]
    },
    {
      "cell_type": "code",
      "execution_count": 129,
      "metadata": {
        "id": "aAHrJ3UBHi1h"
      },
      "outputs": [],
      "source": [
        "from sklearn.svm import SVC"
      ]
    },
    {
      "cell_type": "markdown",
      "metadata": {
        "id": "7CsnFaVJHi1h"
      },
      "source": [
        "### J.2 Set Hyperparameters\n",
        "\n",
        "> Provide some explanations on why you believe this algorithm is a good fit\n"
      ]
    },
    {
      "cell_type": "code",
      "execution_count": 130,
      "metadata": {
        "id": "8dSSRG5qHi1h"
      },
      "outputs": [],
      "source": [
        "svm_model = SVC(kernel='rbf',gamma=0.001, C=1.0,probability=True, random_state=8)"
      ]
    },
    {
      "cell_type": "code",
      "source": [
        "# <Student to fill this section>\n",
        "hyperparameters_selection_explanations = \"\"\"\n",
        "Provide some explanations on why you believe this algorithm is a good fit and why these hyperparameters were chosen.\n",
        "\"\"\""
      ],
      "metadata": {
        "id": "M-Q_ump2I3BO"
      },
      "execution_count": 131,
      "outputs": []
    },
    {
      "cell_type": "code",
      "execution_count": 132,
      "metadata": {
        "colab": {
          "base_uri": "https://localhost:8080/",
          "height": 81
        },
        "id": "De1bdXjZHi1h",
        "outputId": "3bfe09aa-978b-41b5-da71-babd58a6f6cb"
      },
      "outputs": [
        {
          "output_type": "display_data",
          "data": {
            "text/plain": [
              "<IPython.core.display.HTML object>"
            ],
            "text/html": [
              "<p style=\"color:grey\">hyperparameters_selection_explanations</p><h3 font-size: 3em>\n",
              "Provide some explanations on why you believe this algorithm is a good fit and why these hyperparameters were chosen.\n",
              "</h3>"
            ]
          },
          "metadata": {}
        }
      ],
      "source": [
        "# Do not modify this code\n",
        "print_tile(size=\"h3\", key='hyperparameters_selection_explanations', value=hyperparameters_selection_explanations)"
      ]
    },
    {
      "cell_type": "markdown",
      "metadata": {
        "id": "UjnHbXOdHi1i"
      },
      "source": [
        "### J.3 Fit Model"
      ]
    },
    {
      "cell_type": "code",
      "execution_count": 133,
      "metadata": {
        "colab": {
          "base_uri": "https://localhost:8080/",
          "height": 80
        },
        "id": "0KvmECBeHi1i",
        "outputId": "7bd69ccc-100a-4afa-dd77-3953deabead9"
      },
      "outputs": [
        {
          "output_type": "execute_result",
          "data": {
            "text/plain": [
              "SVC(gamma=0.001, probability=True, random_state=8)"
            ],
            "text/html": [
              "<style>#sk-container-id-2 {\n",
              "  /* Definition of color scheme common for light and dark mode */\n",
              "  --sklearn-color-text: black;\n",
              "  --sklearn-color-line: gray;\n",
              "  /* Definition of color scheme for unfitted estimators */\n",
              "  --sklearn-color-unfitted-level-0: #fff5e6;\n",
              "  --sklearn-color-unfitted-level-1: #f6e4d2;\n",
              "  --sklearn-color-unfitted-level-2: #ffe0b3;\n",
              "  --sklearn-color-unfitted-level-3: chocolate;\n",
              "  /* Definition of color scheme for fitted estimators */\n",
              "  --sklearn-color-fitted-level-0: #f0f8ff;\n",
              "  --sklearn-color-fitted-level-1: #d4ebff;\n",
              "  --sklearn-color-fitted-level-2: #b3dbfd;\n",
              "  --sklearn-color-fitted-level-3: cornflowerblue;\n",
              "\n",
              "  /* Specific color for light theme */\n",
              "  --sklearn-color-text-on-default-background: var(--sg-text-color, var(--theme-code-foreground, var(--jp-content-font-color1, black)));\n",
              "  --sklearn-color-background: var(--sg-background-color, var(--theme-background, var(--jp-layout-color0, white)));\n",
              "  --sklearn-color-border-box: var(--sg-text-color, var(--theme-code-foreground, var(--jp-content-font-color1, black)));\n",
              "  --sklearn-color-icon: #696969;\n",
              "\n",
              "  @media (prefers-color-scheme: dark) {\n",
              "    /* Redefinition of color scheme for dark theme */\n",
              "    --sklearn-color-text-on-default-background: var(--sg-text-color, var(--theme-code-foreground, var(--jp-content-font-color1, white)));\n",
              "    --sklearn-color-background: var(--sg-background-color, var(--theme-background, var(--jp-layout-color0, #111)));\n",
              "    --sklearn-color-border-box: var(--sg-text-color, var(--theme-code-foreground, var(--jp-content-font-color1, white)));\n",
              "    --sklearn-color-icon: #878787;\n",
              "  }\n",
              "}\n",
              "\n",
              "#sk-container-id-2 {\n",
              "  color: var(--sklearn-color-text);\n",
              "}\n",
              "\n",
              "#sk-container-id-2 pre {\n",
              "  padding: 0;\n",
              "}\n",
              "\n",
              "#sk-container-id-2 input.sk-hidden--visually {\n",
              "  border: 0;\n",
              "  clip: rect(1px 1px 1px 1px);\n",
              "  clip: rect(1px, 1px, 1px, 1px);\n",
              "  height: 1px;\n",
              "  margin: -1px;\n",
              "  overflow: hidden;\n",
              "  padding: 0;\n",
              "  position: absolute;\n",
              "  width: 1px;\n",
              "}\n",
              "\n",
              "#sk-container-id-2 div.sk-dashed-wrapped {\n",
              "  border: 1px dashed var(--sklearn-color-line);\n",
              "  margin: 0 0.4em 0.5em 0.4em;\n",
              "  box-sizing: border-box;\n",
              "  padding-bottom: 0.4em;\n",
              "  background-color: var(--sklearn-color-background);\n",
              "}\n",
              "\n",
              "#sk-container-id-2 div.sk-container {\n",
              "  /* jupyter's `normalize.less` sets `[hidden] { display: none; }`\n",
              "     but bootstrap.min.css set `[hidden] { display: none !important; }`\n",
              "     so we also need the `!important` here to be able to override the\n",
              "     default hidden behavior on the sphinx rendered scikit-learn.org.\n",
              "     See: https://github.com/scikit-learn/scikit-learn/issues/21755 */\n",
              "  display: inline-block !important;\n",
              "  position: relative;\n",
              "}\n",
              "\n",
              "#sk-container-id-2 div.sk-text-repr-fallback {\n",
              "  display: none;\n",
              "}\n",
              "\n",
              "div.sk-parallel-item,\n",
              "div.sk-serial,\n",
              "div.sk-item {\n",
              "  /* draw centered vertical line to link estimators */\n",
              "  background-image: linear-gradient(var(--sklearn-color-text-on-default-background), var(--sklearn-color-text-on-default-background));\n",
              "  background-size: 2px 100%;\n",
              "  background-repeat: no-repeat;\n",
              "  background-position: center center;\n",
              "}\n",
              "\n",
              "/* Parallel-specific style estimator block */\n",
              "\n",
              "#sk-container-id-2 div.sk-parallel-item::after {\n",
              "  content: \"\";\n",
              "  width: 100%;\n",
              "  border-bottom: 2px solid var(--sklearn-color-text-on-default-background);\n",
              "  flex-grow: 1;\n",
              "}\n",
              "\n",
              "#sk-container-id-2 div.sk-parallel {\n",
              "  display: flex;\n",
              "  align-items: stretch;\n",
              "  justify-content: center;\n",
              "  background-color: var(--sklearn-color-background);\n",
              "  position: relative;\n",
              "}\n",
              "\n",
              "#sk-container-id-2 div.sk-parallel-item {\n",
              "  display: flex;\n",
              "  flex-direction: column;\n",
              "}\n",
              "\n",
              "#sk-container-id-2 div.sk-parallel-item:first-child::after {\n",
              "  align-self: flex-end;\n",
              "  width: 50%;\n",
              "}\n",
              "\n",
              "#sk-container-id-2 div.sk-parallel-item:last-child::after {\n",
              "  align-self: flex-start;\n",
              "  width: 50%;\n",
              "}\n",
              "\n",
              "#sk-container-id-2 div.sk-parallel-item:only-child::after {\n",
              "  width: 0;\n",
              "}\n",
              "\n",
              "/* Serial-specific style estimator block */\n",
              "\n",
              "#sk-container-id-2 div.sk-serial {\n",
              "  display: flex;\n",
              "  flex-direction: column;\n",
              "  align-items: center;\n",
              "  background-color: var(--sklearn-color-background);\n",
              "  padding-right: 1em;\n",
              "  padding-left: 1em;\n",
              "}\n",
              "\n",
              "\n",
              "/* Toggleable style: style used for estimator/Pipeline/ColumnTransformer box that is\n",
              "clickable and can be expanded/collapsed.\n",
              "- Pipeline and ColumnTransformer use this feature and define the default style\n",
              "- Estimators will overwrite some part of the style using the `sk-estimator` class\n",
              "*/\n",
              "\n",
              "/* Pipeline and ColumnTransformer style (default) */\n",
              "\n",
              "#sk-container-id-2 div.sk-toggleable {\n",
              "  /* Default theme specific background. It is overwritten whether we have a\n",
              "  specific estimator or a Pipeline/ColumnTransformer */\n",
              "  background-color: var(--sklearn-color-background);\n",
              "}\n",
              "\n",
              "/* Toggleable label */\n",
              "#sk-container-id-2 label.sk-toggleable__label {\n",
              "  cursor: pointer;\n",
              "  display: block;\n",
              "  width: 100%;\n",
              "  margin-bottom: 0;\n",
              "  padding: 0.5em;\n",
              "  box-sizing: border-box;\n",
              "  text-align: center;\n",
              "}\n",
              "\n",
              "#sk-container-id-2 label.sk-toggleable__label-arrow:before {\n",
              "  /* Arrow on the left of the label */\n",
              "  content: \"▸\";\n",
              "  float: left;\n",
              "  margin-right: 0.25em;\n",
              "  color: var(--sklearn-color-icon);\n",
              "}\n",
              "\n",
              "#sk-container-id-2 label.sk-toggleable__label-arrow:hover:before {\n",
              "  color: var(--sklearn-color-text);\n",
              "}\n",
              "\n",
              "/* Toggleable content - dropdown */\n",
              "\n",
              "#sk-container-id-2 div.sk-toggleable__content {\n",
              "  max-height: 0;\n",
              "  max-width: 0;\n",
              "  overflow: hidden;\n",
              "  text-align: left;\n",
              "  /* unfitted */\n",
              "  background-color: var(--sklearn-color-unfitted-level-0);\n",
              "}\n",
              "\n",
              "#sk-container-id-2 div.sk-toggleable__content.fitted {\n",
              "  /* fitted */\n",
              "  background-color: var(--sklearn-color-fitted-level-0);\n",
              "}\n",
              "\n",
              "#sk-container-id-2 div.sk-toggleable__content pre {\n",
              "  margin: 0.2em;\n",
              "  border-radius: 0.25em;\n",
              "  color: var(--sklearn-color-text);\n",
              "  /* unfitted */\n",
              "  background-color: var(--sklearn-color-unfitted-level-0);\n",
              "}\n",
              "\n",
              "#sk-container-id-2 div.sk-toggleable__content.fitted pre {\n",
              "  /* unfitted */\n",
              "  background-color: var(--sklearn-color-fitted-level-0);\n",
              "}\n",
              "\n",
              "#sk-container-id-2 input.sk-toggleable__control:checked~div.sk-toggleable__content {\n",
              "  /* Expand drop-down */\n",
              "  max-height: 200px;\n",
              "  max-width: 100%;\n",
              "  overflow: auto;\n",
              "}\n",
              "\n",
              "#sk-container-id-2 input.sk-toggleable__control:checked~label.sk-toggleable__label-arrow:before {\n",
              "  content: \"▾\";\n",
              "}\n",
              "\n",
              "/* Pipeline/ColumnTransformer-specific style */\n",
              "\n",
              "#sk-container-id-2 div.sk-label input.sk-toggleable__control:checked~label.sk-toggleable__label {\n",
              "  color: var(--sklearn-color-text);\n",
              "  background-color: var(--sklearn-color-unfitted-level-2);\n",
              "}\n",
              "\n",
              "#sk-container-id-2 div.sk-label.fitted input.sk-toggleable__control:checked~label.sk-toggleable__label {\n",
              "  background-color: var(--sklearn-color-fitted-level-2);\n",
              "}\n",
              "\n",
              "/* Estimator-specific style */\n",
              "\n",
              "/* Colorize estimator box */\n",
              "#sk-container-id-2 div.sk-estimator input.sk-toggleable__control:checked~label.sk-toggleable__label {\n",
              "  /* unfitted */\n",
              "  background-color: var(--sklearn-color-unfitted-level-2);\n",
              "}\n",
              "\n",
              "#sk-container-id-2 div.sk-estimator.fitted input.sk-toggleable__control:checked~label.sk-toggleable__label {\n",
              "  /* fitted */\n",
              "  background-color: var(--sklearn-color-fitted-level-2);\n",
              "}\n",
              "\n",
              "#sk-container-id-2 div.sk-label label.sk-toggleable__label,\n",
              "#sk-container-id-2 div.sk-label label {\n",
              "  /* The background is the default theme color */\n",
              "  color: var(--sklearn-color-text-on-default-background);\n",
              "}\n",
              "\n",
              "/* On hover, darken the color of the background */\n",
              "#sk-container-id-2 div.sk-label:hover label.sk-toggleable__label {\n",
              "  color: var(--sklearn-color-text);\n",
              "  background-color: var(--sklearn-color-unfitted-level-2);\n",
              "}\n",
              "\n",
              "/* Label box, darken color on hover, fitted */\n",
              "#sk-container-id-2 div.sk-label.fitted:hover label.sk-toggleable__label.fitted {\n",
              "  color: var(--sklearn-color-text);\n",
              "  background-color: var(--sklearn-color-fitted-level-2);\n",
              "}\n",
              "\n",
              "/* Estimator label */\n",
              "\n",
              "#sk-container-id-2 div.sk-label label {\n",
              "  font-family: monospace;\n",
              "  font-weight: bold;\n",
              "  display: inline-block;\n",
              "  line-height: 1.2em;\n",
              "}\n",
              "\n",
              "#sk-container-id-2 div.sk-label-container {\n",
              "  text-align: center;\n",
              "}\n",
              "\n",
              "/* Estimator-specific */\n",
              "#sk-container-id-2 div.sk-estimator {\n",
              "  font-family: monospace;\n",
              "  border: 1px dotted var(--sklearn-color-border-box);\n",
              "  border-radius: 0.25em;\n",
              "  box-sizing: border-box;\n",
              "  margin-bottom: 0.5em;\n",
              "  /* unfitted */\n",
              "  background-color: var(--sklearn-color-unfitted-level-0);\n",
              "}\n",
              "\n",
              "#sk-container-id-2 div.sk-estimator.fitted {\n",
              "  /* fitted */\n",
              "  background-color: var(--sklearn-color-fitted-level-0);\n",
              "}\n",
              "\n",
              "/* on hover */\n",
              "#sk-container-id-2 div.sk-estimator:hover {\n",
              "  /* unfitted */\n",
              "  background-color: var(--sklearn-color-unfitted-level-2);\n",
              "}\n",
              "\n",
              "#sk-container-id-2 div.sk-estimator.fitted:hover {\n",
              "  /* fitted */\n",
              "  background-color: var(--sklearn-color-fitted-level-2);\n",
              "}\n",
              "\n",
              "/* Specification for estimator info (e.g. \"i\" and \"?\") */\n",
              "\n",
              "/* Common style for \"i\" and \"?\" */\n",
              "\n",
              ".sk-estimator-doc-link,\n",
              "a:link.sk-estimator-doc-link,\n",
              "a:visited.sk-estimator-doc-link {\n",
              "  float: right;\n",
              "  font-size: smaller;\n",
              "  line-height: 1em;\n",
              "  font-family: monospace;\n",
              "  background-color: var(--sklearn-color-background);\n",
              "  border-radius: 1em;\n",
              "  height: 1em;\n",
              "  width: 1em;\n",
              "  text-decoration: none !important;\n",
              "  margin-left: 1ex;\n",
              "  /* unfitted */\n",
              "  border: var(--sklearn-color-unfitted-level-1) 1pt solid;\n",
              "  color: var(--sklearn-color-unfitted-level-1);\n",
              "}\n",
              "\n",
              ".sk-estimator-doc-link.fitted,\n",
              "a:link.sk-estimator-doc-link.fitted,\n",
              "a:visited.sk-estimator-doc-link.fitted {\n",
              "  /* fitted */\n",
              "  border: var(--sklearn-color-fitted-level-1) 1pt solid;\n",
              "  color: var(--sklearn-color-fitted-level-1);\n",
              "}\n",
              "\n",
              "/* On hover */\n",
              "div.sk-estimator:hover .sk-estimator-doc-link:hover,\n",
              ".sk-estimator-doc-link:hover,\n",
              "div.sk-label-container:hover .sk-estimator-doc-link:hover,\n",
              ".sk-estimator-doc-link:hover {\n",
              "  /* unfitted */\n",
              "  background-color: var(--sklearn-color-unfitted-level-3);\n",
              "  color: var(--sklearn-color-background);\n",
              "  text-decoration: none;\n",
              "}\n",
              "\n",
              "div.sk-estimator.fitted:hover .sk-estimator-doc-link.fitted:hover,\n",
              ".sk-estimator-doc-link.fitted:hover,\n",
              "div.sk-label-container:hover .sk-estimator-doc-link.fitted:hover,\n",
              ".sk-estimator-doc-link.fitted:hover {\n",
              "  /* fitted */\n",
              "  background-color: var(--sklearn-color-fitted-level-3);\n",
              "  color: var(--sklearn-color-background);\n",
              "  text-decoration: none;\n",
              "}\n",
              "\n",
              "/* Span, style for the box shown on hovering the info icon */\n",
              ".sk-estimator-doc-link span {\n",
              "  display: none;\n",
              "  z-index: 9999;\n",
              "  position: relative;\n",
              "  font-weight: normal;\n",
              "  right: .2ex;\n",
              "  padding: .5ex;\n",
              "  margin: .5ex;\n",
              "  width: min-content;\n",
              "  min-width: 20ex;\n",
              "  max-width: 50ex;\n",
              "  color: var(--sklearn-color-text);\n",
              "  box-shadow: 2pt 2pt 4pt #999;\n",
              "  /* unfitted */\n",
              "  background: var(--sklearn-color-unfitted-level-0);\n",
              "  border: .5pt solid var(--sklearn-color-unfitted-level-3);\n",
              "}\n",
              "\n",
              ".sk-estimator-doc-link.fitted span {\n",
              "  /* fitted */\n",
              "  background: var(--sklearn-color-fitted-level-0);\n",
              "  border: var(--sklearn-color-fitted-level-3);\n",
              "}\n",
              "\n",
              ".sk-estimator-doc-link:hover span {\n",
              "  display: block;\n",
              "}\n",
              "\n",
              "/* \"?\"-specific style due to the `<a>` HTML tag */\n",
              "\n",
              "#sk-container-id-2 a.estimator_doc_link {\n",
              "  float: right;\n",
              "  font-size: 1rem;\n",
              "  line-height: 1em;\n",
              "  font-family: monospace;\n",
              "  background-color: var(--sklearn-color-background);\n",
              "  border-radius: 1rem;\n",
              "  height: 1rem;\n",
              "  width: 1rem;\n",
              "  text-decoration: none;\n",
              "  /* unfitted */\n",
              "  color: var(--sklearn-color-unfitted-level-1);\n",
              "  border: var(--sklearn-color-unfitted-level-1) 1pt solid;\n",
              "}\n",
              "\n",
              "#sk-container-id-2 a.estimator_doc_link.fitted {\n",
              "  /* fitted */\n",
              "  border: var(--sklearn-color-fitted-level-1) 1pt solid;\n",
              "  color: var(--sklearn-color-fitted-level-1);\n",
              "}\n",
              "\n",
              "/* On hover */\n",
              "#sk-container-id-2 a.estimator_doc_link:hover {\n",
              "  /* unfitted */\n",
              "  background-color: var(--sklearn-color-unfitted-level-3);\n",
              "  color: var(--sklearn-color-background);\n",
              "  text-decoration: none;\n",
              "}\n",
              "\n",
              "#sk-container-id-2 a.estimator_doc_link.fitted:hover {\n",
              "  /* fitted */\n",
              "  background-color: var(--sklearn-color-fitted-level-3);\n",
              "}\n",
              "</style><div id=\"sk-container-id-2\" class=\"sk-top-container\"><div class=\"sk-text-repr-fallback\"><pre>SVC(gamma=0.001, probability=True, random_state=8)</pre><b>In a Jupyter environment, please rerun this cell to show the HTML representation or trust the notebook. <br />On GitHub, the HTML representation is unable to render, please try loading this page with nbviewer.org.</b></div><div class=\"sk-container\" hidden><div class=\"sk-item\"><div class=\"sk-estimator fitted sk-toggleable\"><input class=\"sk-toggleable__control sk-hidden--visually\" id=\"sk-estimator-id-2\" type=\"checkbox\" checked><label for=\"sk-estimator-id-2\" class=\"sk-toggleable__label fitted sk-toggleable__label-arrow fitted\">&nbsp;&nbsp;SVC<a class=\"sk-estimator-doc-link fitted\" rel=\"noreferrer\" target=\"_blank\" href=\"https://scikit-learn.org/1.5/modules/generated/sklearn.svm.SVC.html\">?<span>Documentation for SVC</span></a><span class=\"sk-estimator-doc-link fitted\">i<span>Fitted</span></span></label><div class=\"sk-toggleable__content fitted\"><pre>SVC(gamma=0.001, probability=True, random_state=8)</pre></div> </div></div></div></div>"
            ]
          },
          "metadata": {},
          "execution_count": 133
        }
      ],
      "source": [
        "svm_model.fit(X_train, y_train)"
      ]
    },
    {
      "cell_type": "markdown",
      "metadata": {
        "id": "wkUC41XAHi1i"
      },
      "source": [
        "### J.4 Model Technical Performance\n",
        "\n",
        "> Provide some explanations on model performance\n"
      ]
    },
    {
      "cell_type": "code",
      "execution_count": 134,
      "metadata": {
        "id": "0h7sg2-6Hi1i"
      },
      "outputs": [],
      "source": [
        "# <Student to fill this section>"
      ]
    },
    {
      "cell_type": "code",
      "execution_count": 135,
      "metadata": {
        "colab": {
          "base_uri": "https://localhost:8080/"
        },
        "id": "ydjk2CBUHi1k",
        "outputId": "2f474356-0536-456f-bdd6-536c237df908"
      },
      "outputs": [
        {
          "output_type": "stream",
          "name": "stdout",
          "text": [
            "Validation AUC: 0.9680866943308355\n"
          ]
        }
      ],
      "source": [
        "y_val_pred_probs = svm_model.predict_proba(X_val)[:, 1]\n",
        "auc = roc_auc_score(y_val, y_val_pred_probs)\n",
        "print(\"Validation AUC:\", auc)"
      ]
    },
    {
      "cell_type": "code",
      "source": [
        "from sklearn.metrics import precision_recall_curve, average_precision_score\n",
        "import matplotlib.pyplot as plt\n",
        "\n",
        "# Predict probabilities for validation set instead of Kaggle test\n",
        "y_val_pred_probs = svm_model.predict_proba(X_val)[:, 1]\n",
        "\n",
        "precision, recall, thresholds = precision_recall_curve(y_val, y_val_pred_probs)\n",
        "ap = average_precision_score(y_val, y_val_pred_probs)\n",
        "\n",
        "plt.figure(figsize=(6, 5))\n",
        "plt.plot(recall, precision, label=f\"SVM (AP = {ap:.3f})\", color=\"green\")\n",
        "plt.xlabel(\"Recall\")\n",
        "plt.ylabel(\"Precision\")\n",
        "plt.title(\"Precision–Recall Curve - SVM (Validation Set, Exp 1)\")\n",
        "plt.legend(loc=\"upper right\")\n",
        "plt.grid(True)\n",
        "plt.show()\n",
        "\n"
      ],
      "metadata": {
        "colab": {
          "base_uri": "https://localhost:8080/",
          "height": 487
        },
        "id": "5kze4jyo46ah",
        "outputId": "041ef6f7-ca82-491e-f7a8-22e04d2d6861"
      },
      "execution_count": 151,
      "outputs": [
        {
          "output_type": "display_data",
          "data": {
            "text/plain": [
              "<Figure size 600x500 with 1 Axes>"
            ],
            "image/png": "[encoded data removed]"
          },
          "metadata": {}
        }
      ]
    },
    {
      "cell_type": "code",
      "execution_count": 137,
      "metadata": {
        "id": "ujJnWBYrHi1l"
      },
      "outputs": [],
      "source": [
        "# <Student to fill this section>\n",
        "model_performance_explanations = \"\"\"\n",
        "Provide some explanations on model performance\n",
        "\"\"\""
      ]
    },
    {
      "cell_type": "markdown",
      "metadata": {
        "id": "GLQcoCaYHi1l"
      },
      "source": [
        "Predict probabilities for test set (for Kaggle submission)"
      ]
    },
    {
      "cell_type": "code",
      "execution_count": 138,
      "metadata": {
        "id": "s7sYTJ-zHi1l"
      },
      "outputs": [],
      "source": [
        "y_test_pred_probs = svm_model.predict_proba(X_test)[:, 1]"
      ]
    },
    {
      "cell_type": "code",
      "execution_count": 139,
      "metadata": {
        "colab": {
          "base_uri": "https://localhost:8080/"
        },
        "id": "SbNtJGNdHi1l",
        "outputId": "5dabec34-1340-4695-a20b-0e287527c9c9"
      },
      "outputs": [
        {
          "output_type": "stream",
          "name": "stdout",
          "text": [
            "1297\n",
            "1297\n"
          ]
        }
      ],
      "source": [
        "print(len(test_df_cleaned['player_id']))       # Should be 1297\n",
        "print(len(y_test_pred_probs))          # Should also be 1297"
      ]
    },
    {
      "cell_type": "code",
      "source": [
        "# === DEBUG: fingerprint + basic stats for SVM experiment ===\n",
        "import os, json, hashlib, numpy as np\n",
        "\n",
        "# If your variable name is different, change it here:\n",
        "_probs = np.asarray(y_test_pred_probs, dtype=float)\n",
        "\n",
        "stats = {\n",
        "    \"model_tag\": \"exp1_svm\",\n",
        "    \"count\": int(_probs.size),\n",
        "    \"mean\": float(np.mean(_probs)),\n",
        "    \"std\": float(np.std(_probs)),\n",
        "    \"min\": float(np.min(_probs)),\n",
        "    \"max\": float(np.max(_probs)),\n",
        "    \"unique_rounded_4\": int(len(np.unique(np.round(_probs, 4)))),\n",
        "}\n",
        "\n",
        "stats[\"sha256\"] = hashlib.sha256(_probs.tobytes()).hexdigest()\n",
        "\n",
        "os.makedirs(\"debug_stats\", exist_ok=True)\n",
        "with open(\"debug_stats/preds_stats_exp1_svm.json\", \"w\") as f:\n",
        "    json.dump(stats, f, indent=2)\n",
        "\n",
        "print(\"== Debug stats (exp1_svm) ==\")\n",
        "print(json.dumps(stats, indent=2))\n"
      ],
      "metadata": {
        "colab": {
          "base_uri": "https://localhost:8080/"
        },
        "id": "nIOoxlqjTwUl",
        "outputId": "1459dc6c-a20f-4cfa-c7f7-a8fe7971d235"
      },
      "execution_count": 140,
      "outputs": [
        {
          "output_type": "stream",
          "name": "stdout",
          "text": [
            "== Debug stats (exp1_svm) ==\n",
            "{\n",
            "  \"model_tag\": \"exp1_svm\",\n",
            "  \"count\": 1297,\n",
            "  \"mean\": 0.013475227723249918,\n",
            "  \"std\": 0.05088592247701911,\n",
            "  \"min\": 0.00041999495786711666,\n",
            "  \"max\": 0.9609271587106875,\n",
            "  \"unique_rounded_4\": 301,\n",
            "  \"sha256\": \"e667199df477d1ac148cf7a487156fd579b18c7d8603a01815ca49e0bb3b11c5\"\n",
            "}\n"
          ]
        }
      ]
    },
    {
      "cell_type": "markdown",
      "metadata": {
        "id": "hLkFF9fQHi1l"
      },
      "source": [
        "Create submission DataFrame"
      ]
    },
    {
      "cell_type": "code",
      "execution_count": 141,
      "metadata": {
        "id": "_vhs_b-iHi1l"
      },
      "outputs": [],
      "source": [
        "submission_df = pd.DataFrame({\n",
        "    \"player_id\": test_df_cleaned['player_id'],\n",
        "    \"drafted\": y_test_pred_probs\n",
        "})"
      ]
    },
    {
      "cell_type": "markdown",
      "metadata": {
        "id": "ytjplN5LHi1l"
      },
      "source": [
        "Save to CSV"
      ]
    },
    {
      "cell_type": "code",
      "source": [
        "from google.colab import files\n",
        "submission_df.to_csv(\"submission_exp1.csv\", index=False)\n",
        "files.download(\"submission_exp1.csv\")\n"
      ],
      "metadata": {
        "colab": {
          "base_uri": "https://localhost:8080/",
          "height": 17
        },
        "id": "GYBFb1JuJK7k",
        "outputId": "a97debdc-d7d8-4991-c816-5dd2045e97b5"
      },
      "execution_count": 142,
      "outputs": [
        {
          "output_type": "display_data",
          "data": {
            "text/plain": [
              "<IPython.core.display.Javascript object>"
            ],
            "application/javascript": [
              "\n",
              "    async function download(id, filename, size) {\n",
              "      if (!google.colab.kernel.accessAllowed) {\n",
              "        return;\n",
              "      }\n",
              "      const div = document.createElement('div');\n",
              "      const label = document.createElement('label');\n",
              "      label.textContent = `Downloading \"${filename}\": `;\n",
              "      div.appendChild(label);\n",
              "      const progress = document.createElement('progress');\n",
              "      progress.max = size;\n",
              "      div.appendChild(progress);\n",
              "      document.body.appendChild(div);\n",
              "\n",
              "      const buffers = [];\n",
              "      let downloaded = 0;\n",
              "\n",
              "      const channel = await google.colab.kernel.comms.open(id);\n",
              "      // Send a message to notify the kernel that we're ready.\n",
              "      channel.send({})\n",
              "\n",
              "      for await (const message of channel.messages) {\n",
              "        // Send a message to notify the kernel that we're ready.\n",
              "        channel.send({})\n",
              "        if (message.buffers) {\n",
              "          for (const buffer of message.buffers) {\n",
              "            buffers.push(buffer);\n",
              "            downloaded += buffer.byteLength;\n",
              "            progress.value = downloaded;\n",
              "          }\n",
              "        }\n",
              "      }\n",
              "      const blob = new Blob(buffers, {type: 'application/binary'});\n",
              "      const a = document.createElement('a');\n",
              "      a.href = window.URL.createObjectURL(blob);\n",
              "      a.download = filename;\n",
              "      div.appendChild(a);\n",
              "      a.click();\n",
              "      div.remove();\n",
              "    }\n",
              "  "
            ]
          },
          "metadata": {}
        },
        {
          "output_type": "display_data",
          "data": {
            "text/plain": [
              "<IPython.core.display.Javascript object>"
            ],
            "application/javascript": [
              "download(\"download_0eaebce9-d8ab-4371-a813-7263a76d761c\", \"submission_exp1.csv\", 75246)"
            ]
          },
          "metadata": {}
        }
      ]
    },
    {
      "cell_type": "code",
      "execution_count": 143,
      "metadata": {
        "colab": {
          "base_uri": "https://localhost:8080/",
          "height": 81
        },
        "id": "Fg1uTFtYHi1l",
        "outputId": "ab5d2a5e-e9a2-46c9-add4-c49867017d23"
      },
      "outputs": [
        {
          "output_type": "display_data",
          "data": {
            "text/plain": [
              "<IPython.core.display.HTML object>"
            ],
            "text/html": [
              "<p style=\"color:grey\">model_performance_explanations</p><h3 font-size: 3em>\n",
              "Provide some explanations on model performance\n",
              "</h3>"
            ]
          },
          "metadata": {}
        }
      ],
      "source": [
        "# Do not modify this code\n",
        "print_tile(size=\"h3\", key='model_performance_explanations', value=model_performance_explanations)"
      ]
    },
    {
      "cell_type": "markdown",
      "metadata": {
        "id": "3ectf7voHi1l"
      },
      "source": [
        "### J.5 Business Impact from Current Model Performance\n",
        "\n",
        "> Provide some analysis on the model impacts from the business point of view\n"
      ]
    },
    {
      "cell_type": "code",
      "execution_count": 144,
      "metadata": {
        "id": "lvuO-MkDHi1l"
      },
      "outputs": [],
      "source": [
        "# <Student to fill this section>\n",
        "business_impacts_explanations = \"\"\"\n",
        "Interpret the results of the experiments related to the business objective set earlier. Estimate the impacts of the incorrect results for the business (some results may have more impact compared to others)\n",
        "\"\"\""
      ]
    },
    {
      "cell_type": "code",
      "execution_count": 145,
      "metadata": {
        "colab": {
          "base_uri": "https://localhost:8080/",
          "height": 101
        },
        "id": "fF4uQKgIHi1m",
        "outputId": "89311da9-a38a-4215-e2bb-a2056f63685b"
      },
      "outputs": [
        {
          "output_type": "display_data",
          "data": {
            "text/plain": [
              "<IPython.core.display.HTML object>"
            ],
            "text/html": [
              "<p style=\"color:grey\">business_impacts_explanations</p><h3 font-size: 3em>\n",
              "Interpret the results of the experiments related to the business objective set earlier. Estimate the impacts of the incorrect results for the business (some results may have more impact compared to others)\n",
              "</h3>"
            ]
          },
          "metadata": {}
        }
      ],
      "source": [
        "# Do not modify this code\n",
        "print_tile(size=\"h3\", key='business_impacts_explanations', value=business_impacts_explanations)"
      ]
    },
    {
      "cell_type": "markdown",
      "metadata": {
        "id": "M3g6xLw5Hi1m"
      },
      "source": [
        "## H. Project Outcomes"
      ]
    },
    {
      "cell_type": "code",
      "execution_count": 146,
      "metadata": {
        "id": "jqp8tffOHi1m"
      },
      "outputs": [],
      "source": [
        "# <Student to fill this section>\n",
        "experiment_outcome = \"\" # Either 'Hypothesis Confirmed', 'Hypothesis Partially Confirmed' or 'Hypothesis Rejected'"
      ]
    },
    {
      "cell_type": "code",
      "execution_count": 147,
      "metadata": {
        "colab": {
          "base_uri": "https://localhost:8080/",
          "height": 58
        },
        "id": "FKWMLNrYHi1m",
        "outputId": "e04973da-b6d8-4f6c-b2a9-f2cba2862aa3"
      },
      "outputs": [
        {
          "output_type": "display_data",
          "data": {
            "text/plain": [
              "<IPython.core.display.HTML object>"
            ],
            "text/html": [
              "<p style=\"color:grey\">experiment_outcomes_explanations</p><h2 font-size: 3em></h2>"
            ]
          },
          "metadata": {}
        }
      ],
      "source": [
        "# Do not modify this code\n",
        "print_tile(size=\"h2\", key='experiment_outcomes_explanations', value=experiment_outcome)"
      ]
    },
    {
      "cell_type": "code",
      "execution_count": 148,
      "metadata": {
        "id": "CYUyX8SQHi1m"
      },
      "outputs": [],
      "source": [
        "# <Student to fill this section>\n",
        "experiment_results_explanations = \"\"\"\n",
        "Reflect on the outcome of the experiment and list the new insights you gained from it. Provide rationale for pursuing more experimentation with the current approach or call out if you think it is a dead end.\n",
        "Given the results achieved and the overall objective of the project, list the potential next steps and experiments. For each of them assess the expected uplift or gains and rank them accordingly. If the experiment achieved the required outcome for the business, recommend the steps to deploy this solution into production.\n",
        "\"\"\""
      ]
    },
    {
      "cell_type": "code",
      "execution_count": 149,
      "metadata": {
        "colab": {
          "base_uri": "https://localhost:8080/",
          "height": 166
        },
        "id": "nCCrlI_5Hi1m",
        "outputId": "59c5bea6-91f1-4a61-f68f-16051916c5ee"
      },
      "outputs": [
        {
          "output_type": "display_data",
          "data": {
            "text/plain": [
              "<IPython.core.display.HTML object>"
            ],
            "text/html": [
              "<p style=\"color:grey\">experiment_results_explanations</p><h2 font-size: 3em>\n",
              "Reflect on the outcome of the experiment and list the new insights you gained from it. Provide rationale for pursuing more experimentation with the current approach or call out if you think it is a dead end.\n",
              "Given the results achieved and the overall objective of the project, list the potential next steps and experiments. For each of them assess the expected uplift or gains and rank them accordingly. If the experiment achieved the required outcome for the business, recommend the steps to deploy this solution into production.\n",
              "</h2>"
            ]
          },
          "metadata": {}
        }
      ],
      "source": [
        "# Do not modify this code\n",
        "print_tile(size=\"h2\", key='experiment_results_explanations', value=experiment_results_explanations)"
      ]
    }
  ],
  "metadata": {
    "colab": {
      "provenance": []
    },
    "kernelspec": {
      "display_name": "base",
      "language": "python",
      "name": "python3"
    },
    "language_info": {
      "codemirror_mode": {
        "name": "ipython",
        "version": 3
      },
      "file_extension": ".py",
      "mimetype": "text/x-python",
      "name": "python",
      "nbconvert_exporter": "python",
      "pygments_lexer": "ipython3",
      "version": "3.11.4"
    }
  },
  "nbformat": 4,
  "nbformat_minor": 0
}